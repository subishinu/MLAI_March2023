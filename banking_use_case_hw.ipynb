{
  "nbformat": 4,
  "nbformat_minor": 0,
  "metadata": {
    "colab": {
      "provenance": []
    },
    "kernelspec": {
      "name": "python3",
      "display_name": "Python 3"
    },
    "language_info": {
      "name": "python"
    }
  },
  "cells": [
    {
      "cell_type": "code",
      "execution_count": 1,
      "metadata": {
        "id": "o-zcOj01hz1o"
      },
      "outputs": [],
      "source": [
        "import pandas as pd\n",
        "import numpy as np\n",
        "import matplotlib.pyplot as plt\n"
      ]
    },
    {
      "cell_type": "code",
      "source": [
        "df = pd.read_csv(\"/content/loan_dataset.csv\")\n",
        "df"
      ],
      "metadata": {
        "colab": {
          "base_uri": "https://localhost:8080/",
          "height": 522
        },
        "id": "kch_oImHiY-m",
        "outputId": "a05022ee-7a6a-42dd-96d0-c44745c1bb54"
      },
      "execution_count": 2,
      "outputs": [
        {
          "output_type": "execute_result",
          "data": {
            "text/plain": [
              "             loan_id source       financial_institution  interest_rate  \\\n",
              "0       268055008619      Z  Turner, Baldwin and Rhodes          4.250   \n",
              "1       672831657627      Y  Swanson, Newton and Miller          4.875   \n",
              "2       742515242108      Z              Thornton-Davis          3.250   \n",
              "3       601385667462      X                       OTHER          4.750   \n",
              "4       273870029961      X                       OTHER          4.750   \n",
              "...              ...    ...                         ...            ...   \n",
              "116053  382119962287      Y               Browning-Hart          4.125   \n",
              "116054  582803915466      Z                       OTHER          3.000   \n",
              "116055  837922316947      X                       OTHER          3.875   \n",
              "116056  477343182138      X                       OTHER          4.250   \n",
              "116057  763308490661      Z              Thornton-Davis          3.375   \n",
              "\n",
              "        unpaid_principal_bal  loan_term origination_date first_payment_date  \\\n",
              "0                     214000        360       2012-03-01            05/2012   \n",
              "1                     144000        360       2012-01-01            03/2012   \n",
              "2                     366000        180       2012-01-01            03/2012   \n",
              "3                     135000        360       2012-02-01            04/2012   \n",
              "4                     124000        360       2012-02-01            04/2012   \n",
              "...                      ...        ...              ...                ...   \n",
              "116053                153000        360       2012-02-01            04/2012   \n",
              "116054                150000        120       2012-01-01            03/2012   \n",
              "116055                166000        360       2012-02-01            04/2012   \n",
              "116056                169000        360       2012-02-01            04/2012   \n",
              "116057                252000        180       2012-01-01            03/2012   \n",
              "\n",
              "        loan_to_value  number_of_borrowers  ...  m4  m5 m6  m7  m8  m9  m10  \\\n",
              "0                  95                  1.0  ...   0   0  0   1   0   0    0   \n",
              "1                  72                  1.0  ...   0   0  0   0   0   0    0   \n",
              "2                  49                  1.0  ...   0   0  0   0   0   0    0   \n",
              "3                  46                  2.0  ...   0   0  0   0   0   1    1   \n",
              "4                  80                  1.0  ...   3   4  5   6   7   8    9   \n",
              "...               ...                  ...  ...  ..  .. ..  ..  ..  ..  ...   \n",
              "116053             88                  2.0  ...   0   0  0   0   0   0    0   \n",
              "116054             35                  1.0  ...   0   0  0   0   0   0    0   \n",
              "116055             58                  2.0  ...   0   0  0   0   0   0    0   \n",
              "116056             74                  2.0  ...   0   0  0   0   0   0    0   \n",
              "116057             29                  2.0  ...   0   0  0   0   0   0    0   \n",
              "\n",
              "        m11  m12  m13  \n",
              "0         0    0    1  \n",
              "1         1    0    1  \n",
              "2         0    0    1  \n",
              "3         1    1    1  \n",
              "4        10   11    1  \n",
              "...     ...  ...  ...  \n",
              "116053    0    0    0  \n",
              "116054    0    0    0  \n",
              "116055    0    0    0  \n",
              "116056    0    0    0  \n",
              "116057    0    0    0  \n",
              "\n",
              "[116058 rows x 29 columns]"
            ],
            "text/html": [
              "\n",
              "  <div id=\"df-cbb89ae5-122b-48fb-a6b7-9b56252940c1\">\n",
              "    <div class=\"colab-df-container\">\n",
              "      <div>\n",
              "<style scoped>\n",
              "    .dataframe tbody tr th:only-of-type {\n",
              "        vertical-align: middle;\n",
              "    }\n",
              "\n",
              "    .dataframe tbody tr th {\n",
              "        vertical-align: top;\n",
              "    }\n",
              "\n",
              "    .dataframe thead th {\n",
              "        text-align: right;\n",
              "    }\n",
              "</style>\n",
              "<table border=\"1\" class=\"dataframe\">\n",
              "  <thead>\n",
              "    <tr style=\"text-align: right;\">\n",
              "      <th></th>\n",
              "      <th>loan_id</th>\n",
              "      <th>source</th>\n",
              "      <th>financial_institution</th>\n",
              "      <th>interest_rate</th>\n",
              "      <th>unpaid_principal_bal</th>\n",
              "      <th>loan_term</th>\n",
              "      <th>origination_date</th>\n",
              "      <th>first_payment_date</th>\n",
              "      <th>loan_to_value</th>\n",
              "      <th>number_of_borrowers</th>\n",
              "      <th>...</th>\n",
              "      <th>m4</th>\n",
              "      <th>m5</th>\n",
              "      <th>m6</th>\n",
              "      <th>m7</th>\n",
              "      <th>m8</th>\n",
              "      <th>m9</th>\n",
              "      <th>m10</th>\n",
              "      <th>m11</th>\n",
              "      <th>m12</th>\n",
              "      <th>m13</th>\n",
              "    </tr>\n",
              "  </thead>\n",
              "  <tbody>\n",
              "    <tr>\n",
              "      <th>0</th>\n",
              "      <td>268055008619</td>\n",
              "      <td>Z</td>\n",
              "      <td>Turner, Baldwin and Rhodes</td>\n",
              "      <td>4.250</td>\n",
              "      <td>214000</td>\n",
              "      <td>360</td>\n",
              "      <td>2012-03-01</td>\n",
              "      <td>05/2012</td>\n",
              "      <td>95</td>\n",
              "      <td>1.0</td>\n",
              "      <td>...</td>\n",
              "      <td>0</td>\n",
              "      <td>0</td>\n",
              "      <td>0</td>\n",
              "      <td>1</td>\n",
              "      <td>0</td>\n",
              "      <td>0</td>\n",
              "      <td>0</td>\n",
              "      <td>0</td>\n",
              "      <td>0</td>\n",
              "      <td>1</td>\n",
              "    </tr>\n",
              "    <tr>\n",
              "      <th>1</th>\n",
              "      <td>672831657627</td>\n",
              "      <td>Y</td>\n",
              "      <td>Swanson, Newton and Miller</td>\n",
              "      <td>4.875</td>\n",
              "      <td>144000</td>\n",
              "      <td>360</td>\n",
              "      <td>2012-01-01</td>\n",
              "      <td>03/2012</td>\n",
              "      <td>72</td>\n",
              "      <td>1.0</td>\n",
              "      <td>...</td>\n",
              "      <td>0</td>\n",
              "      <td>0</td>\n",
              "      <td>0</td>\n",
              "      <td>0</td>\n",
              "      <td>0</td>\n",
              "      <td>0</td>\n",
              "      <td>0</td>\n",
              "      <td>1</td>\n",
              "      <td>0</td>\n",
              "      <td>1</td>\n",
              "    </tr>\n",
              "    <tr>\n",
              "      <th>2</th>\n",
              "      <td>742515242108</td>\n",
              "      <td>Z</td>\n",
              "      <td>Thornton-Davis</td>\n",
              "      <td>3.250</td>\n",
              "      <td>366000</td>\n",
              "      <td>180</td>\n",
              "      <td>2012-01-01</td>\n",
              "      <td>03/2012</td>\n",
              "      <td>49</td>\n",
              "      <td>1.0</td>\n",
              "      <td>...</td>\n",
              "      <td>0</td>\n",
              "      <td>0</td>\n",
              "      <td>0</td>\n",
              "      <td>0</td>\n",
              "      <td>0</td>\n",
              "      <td>0</td>\n",
              "      <td>0</td>\n",
              "      <td>0</td>\n",
              "      <td>0</td>\n",
              "      <td>1</td>\n",
              "    </tr>\n",
              "    <tr>\n",
              "      <th>3</th>\n",
              "      <td>601385667462</td>\n",
              "      <td>X</td>\n",
              "      <td>OTHER</td>\n",
              "      <td>4.750</td>\n",
              "      <td>135000</td>\n",
              "      <td>360</td>\n",
              "      <td>2012-02-01</td>\n",
              "      <td>04/2012</td>\n",
              "      <td>46</td>\n",
              "      <td>2.0</td>\n",
              "      <td>...</td>\n",
              "      <td>0</td>\n",
              "      <td>0</td>\n",
              "      <td>0</td>\n",
              "      <td>0</td>\n",
              "      <td>0</td>\n",
              "      <td>1</td>\n",
              "      <td>1</td>\n",
              "      <td>1</td>\n",
              "      <td>1</td>\n",
              "      <td>1</td>\n",
              "    </tr>\n",
              "    <tr>\n",
              "      <th>4</th>\n",
              "      <td>273870029961</td>\n",
              "      <td>X</td>\n",
              "      <td>OTHER</td>\n",
              "      <td>4.750</td>\n",
              "      <td>124000</td>\n",
              "      <td>360</td>\n",
              "      <td>2012-02-01</td>\n",
              "      <td>04/2012</td>\n",
              "      <td>80</td>\n",
              "      <td>1.0</td>\n",
              "      <td>...</td>\n",
              "      <td>3</td>\n",
              "      <td>4</td>\n",
              "      <td>5</td>\n",
              "      <td>6</td>\n",
              "      <td>7</td>\n",
              "      <td>8</td>\n",
              "      <td>9</td>\n",
              "      <td>10</td>\n",
              "      <td>11</td>\n",
              "      <td>1</td>\n",
              "    </tr>\n",
              "    <tr>\n",
              "      <th>...</th>\n",
              "      <td>...</td>\n",
              "      <td>...</td>\n",
              "      <td>...</td>\n",
              "      <td>...</td>\n",
              "      <td>...</td>\n",
              "      <td>...</td>\n",
              "      <td>...</td>\n",
              "      <td>...</td>\n",
              "      <td>...</td>\n",
              "      <td>...</td>\n",
              "      <td>...</td>\n",
              "      <td>...</td>\n",
              "      <td>...</td>\n",
              "      <td>...</td>\n",
              "      <td>...</td>\n",
              "      <td>...</td>\n",
              "      <td>...</td>\n",
              "      <td>...</td>\n",
              "      <td>...</td>\n",
              "      <td>...</td>\n",
              "      <td>...</td>\n",
              "    </tr>\n",
              "    <tr>\n",
              "      <th>116053</th>\n",
              "      <td>382119962287</td>\n",
              "      <td>Y</td>\n",
              "      <td>Browning-Hart</td>\n",
              "      <td>4.125</td>\n",
              "      <td>153000</td>\n",
              "      <td>360</td>\n",
              "      <td>2012-02-01</td>\n",
              "      <td>04/2012</td>\n",
              "      <td>88</td>\n",
              "      <td>2.0</td>\n",
              "      <td>...</td>\n",
              "      <td>0</td>\n",
              "      <td>0</td>\n",
              "      <td>0</td>\n",
              "      <td>0</td>\n",
              "      <td>0</td>\n",
              "      <td>0</td>\n",
              "      <td>0</td>\n",
              "      <td>0</td>\n",
              "      <td>0</td>\n",
              "      <td>0</td>\n",
              "    </tr>\n",
              "    <tr>\n",
              "      <th>116054</th>\n",
              "      <td>582803915466</td>\n",
              "      <td>Z</td>\n",
              "      <td>OTHER</td>\n",
              "      <td>3.000</td>\n",
              "      <td>150000</td>\n",
              "      <td>120</td>\n",
              "      <td>2012-01-01</td>\n",
              "      <td>03/2012</td>\n",
              "      <td>35</td>\n",
              "      <td>1.0</td>\n",
              "      <td>...</td>\n",
              "      <td>0</td>\n",
              "      <td>0</td>\n",
              "      <td>0</td>\n",
              "      <td>0</td>\n",
              "      <td>0</td>\n",
              "      <td>0</td>\n",
              "      <td>0</td>\n",
              "      <td>0</td>\n",
              "      <td>0</td>\n",
              "      <td>0</td>\n",
              "    </tr>\n",
              "    <tr>\n",
              "      <th>116055</th>\n",
              "      <td>837922316947</td>\n",
              "      <td>X</td>\n",
              "      <td>OTHER</td>\n",
              "      <td>3.875</td>\n",
              "      <td>166000</td>\n",
              "      <td>360</td>\n",
              "      <td>2012-02-01</td>\n",
              "      <td>04/2012</td>\n",
              "      <td>58</td>\n",
              "      <td>2.0</td>\n",
              "      <td>...</td>\n",
              "      <td>0</td>\n",
              "      <td>0</td>\n",
              "      <td>0</td>\n",
              "      <td>0</td>\n",
              "      <td>0</td>\n",
              "      <td>0</td>\n",
              "      <td>0</td>\n",
              "      <td>0</td>\n",
              "      <td>0</td>\n",
              "      <td>0</td>\n",
              "    </tr>\n",
              "    <tr>\n",
              "      <th>116056</th>\n",
              "      <td>477343182138</td>\n",
              "      <td>X</td>\n",
              "      <td>OTHER</td>\n",
              "      <td>4.250</td>\n",
              "      <td>169000</td>\n",
              "      <td>360</td>\n",
              "      <td>2012-02-01</td>\n",
              "      <td>04/2012</td>\n",
              "      <td>74</td>\n",
              "      <td>2.0</td>\n",
              "      <td>...</td>\n",
              "      <td>0</td>\n",
              "      <td>0</td>\n",
              "      <td>0</td>\n",
              "      <td>0</td>\n",
              "      <td>0</td>\n",
              "      <td>0</td>\n",
              "      <td>0</td>\n",
              "      <td>0</td>\n",
              "      <td>0</td>\n",
              "      <td>0</td>\n",
              "    </tr>\n",
              "    <tr>\n",
              "      <th>116057</th>\n",
              "      <td>763308490661</td>\n",
              "      <td>Z</td>\n",
              "      <td>Thornton-Davis</td>\n",
              "      <td>3.375</td>\n",
              "      <td>252000</td>\n",
              "      <td>180</td>\n",
              "      <td>2012-01-01</td>\n",
              "      <td>03/2012</td>\n",
              "      <td>29</td>\n",
              "      <td>2.0</td>\n",
              "      <td>...</td>\n",
              "      <td>0</td>\n",
              "      <td>0</td>\n",
              "      <td>0</td>\n",
              "      <td>0</td>\n",
              "      <td>0</td>\n",
              "      <td>0</td>\n",
              "      <td>0</td>\n",
              "      <td>0</td>\n",
              "      <td>0</td>\n",
              "      <td>0</td>\n",
              "    </tr>\n",
              "  </tbody>\n",
              "</table>\n",
              "<p>116058 rows × 29 columns</p>\n",
              "</div>\n",
              "      <button class=\"colab-df-convert\" onclick=\"convertToInteractive('df-cbb89ae5-122b-48fb-a6b7-9b56252940c1')\"\n",
              "              title=\"Convert this dataframe to an interactive table.\"\n",
              "              style=\"display:none;\">\n",
              "        \n",
              "  <svg xmlns=\"http://www.w3.org/2000/svg\" height=\"24px\"viewBox=\"0 0 24 24\"\n",
              "       width=\"24px\">\n",
              "    <path d=\"M0 0h24v24H0V0z\" fill=\"none\"/>\n",
              "    <path d=\"M18.56 5.44l.94 2.06.94-2.06 2.06-.94-2.06-.94-.94-2.06-.94 2.06-2.06.94zm-11 1L8.5 8.5l.94-2.06 2.06-.94-2.06-.94L8.5 2.5l-.94 2.06-2.06.94zm10 10l.94 2.06.94-2.06 2.06-.94-2.06-.94-.94-2.06-.94 2.06-2.06.94z\"/><path d=\"M17.41 7.96l-1.37-1.37c-.4-.4-.92-.59-1.43-.59-.52 0-1.04.2-1.43.59L10.3 9.45l-7.72 7.72c-.78.78-.78 2.05 0 2.83L4 21.41c.39.39.9.59 1.41.59.51 0 1.02-.2 1.41-.59l7.78-7.78 2.81-2.81c.8-.78.8-2.07 0-2.86zM5.41 20L4 18.59l7.72-7.72 1.47 1.35L5.41 20z\"/>\n",
              "  </svg>\n",
              "      </button>\n",
              "      \n",
              "  <style>\n",
              "    .colab-df-container {\n",
              "      display:flex;\n",
              "      flex-wrap:wrap;\n",
              "      gap: 12px;\n",
              "    }\n",
              "\n",
              "    .colab-df-convert {\n",
              "      background-color: #E8F0FE;\n",
              "      border: none;\n",
              "      border-radius: 50%;\n",
              "      cursor: pointer;\n",
              "      display: none;\n",
              "      fill: #1967D2;\n",
              "      height: 32px;\n",
              "      padding: 0 0 0 0;\n",
              "      width: 32px;\n",
              "    }\n",
              "\n",
              "    .colab-df-convert:hover {\n",
              "      background-color: #E2EBFA;\n",
              "      box-shadow: 0px 1px 2px rgba(60, 64, 67, 0.3), 0px 1px 3px 1px rgba(60, 64, 67, 0.15);\n",
              "      fill: #174EA6;\n",
              "    }\n",
              "\n",
              "    [theme=dark] .colab-df-convert {\n",
              "      background-color: #3B4455;\n",
              "      fill: #D2E3FC;\n",
              "    }\n",
              "\n",
              "    [theme=dark] .colab-df-convert:hover {\n",
              "      background-color: #434B5C;\n",
              "      box-shadow: 0px 1px 3px 1px rgba(0, 0, 0, 0.15);\n",
              "      filter: drop-shadow(0px 1px 2px rgba(0, 0, 0, 0.3));\n",
              "      fill: #FFFFFF;\n",
              "    }\n",
              "  </style>\n",
              "\n",
              "      <script>\n",
              "        const buttonEl =\n",
              "          document.querySelector('#df-cbb89ae5-122b-48fb-a6b7-9b56252940c1 button.colab-df-convert');\n",
              "        buttonEl.style.display =\n",
              "          google.colab.kernel.accessAllowed ? 'block' : 'none';\n",
              "\n",
              "        async function convertToInteractive(key) {\n",
              "          const element = document.querySelector('#df-cbb89ae5-122b-48fb-a6b7-9b56252940c1');\n",
              "          const dataTable =\n",
              "            await google.colab.kernel.invokeFunction('convertToInteractive',\n",
              "                                                     [key], {});\n",
              "          if (!dataTable) return;\n",
              "\n",
              "          const docLinkHtml = 'Like what you see? Visit the ' +\n",
              "            '<a target=\"_blank\" href=https://colab.research.google.com/notebooks/data_table.ipynb>data table notebook</a>'\n",
              "            + ' to learn more about interactive tables.';\n",
              "          element.innerHTML = '';\n",
              "          dataTable['output_type'] = 'display_data';\n",
              "          await google.colab.output.renderOutput(dataTable, element);\n",
              "          const docLink = document.createElement('div');\n",
              "          docLink.innerHTML = docLinkHtml;\n",
              "          element.appendChild(docLink);\n",
              "        }\n",
              "      </script>\n",
              "    </div>\n",
              "  </div>\n",
              "  "
            ]
          },
          "metadata": {},
          "execution_count": 2
        }
      ]
    },
    {
      "cell_type": "code",
      "source": [
        "df.head()"
      ],
      "metadata": {
        "colab": {
          "base_uri": "https://localhost:8080/",
          "height": 334
        },
        "id": "UBdicaeujI25",
        "outputId": "e96bcff7-fed7-4332-d457-2d20024402bc"
      },
      "execution_count": 3,
      "outputs": [
        {
          "output_type": "execute_result",
          "data": {
            "text/plain": [
              "        loan_id source       financial_institution  interest_rate  \\\n",
              "0  268055008619      Z  Turner, Baldwin and Rhodes          4.250   \n",
              "1  672831657627      Y  Swanson, Newton and Miller          4.875   \n",
              "2  742515242108      Z              Thornton-Davis          3.250   \n",
              "3  601385667462      X                       OTHER          4.750   \n",
              "4  273870029961      X                       OTHER          4.750   \n",
              "\n",
              "   unpaid_principal_bal  loan_term origination_date first_payment_date  \\\n",
              "0                214000        360       2012-03-01            05/2012   \n",
              "1                144000        360       2012-01-01            03/2012   \n",
              "2                366000        180       2012-01-01            03/2012   \n",
              "3                135000        360       2012-02-01            04/2012   \n",
              "4                124000        360       2012-02-01            04/2012   \n",
              "\n",
              "   loan_to_value  number_of_borrowers  ...  m4  m5 m6  m7  m8  m9  m10  m11  \\\n",
              "0             95                  1.0  ...   0   0  0   1   0   0    0    0   \n",
              "1             72                  1.0  ...   0   0  0   0   0   0    0    1   \n",
              "2             49                  1.0  ...   0   0  0   0   0   0    0    0   \n",
              "3             46                  2.0  ...   0   0  0   0   0   1    1    1   \n",
              "4             80                  1.0  ...   3   4  5   6   7   8    9   10   \n",
              "\n",
              "   m12  m13  \n",
              "0    0    1  \n",
              "1    0    1  \n",
              "2    0    1  \n",
              "3    1    1  \n",
              "4   11    1  \n",
              "\n",
              "[5 rows x 29 columns]"
            ],
            "text/html": [
              "\n",
              "  <div id=\"df-4887c21e-9853-4f1c-92fa-f2613c2a099f\">\n",
              "    <div class=\"colab-df-container\">\n",
              "      <div>\n",
              "<style scoped>\n",
              "    .dataframe tbody tr th:only-of-type {\n",
              "        vertical-align: middle;\n",
              "    }\n",
              "\n",
              "    .dataframe tbody tr th {\n",
              "        vertical-align: top;\n",
              "    }\n",
              "\n",
              "    .dataframe thead th {\n",
              "        text-align: right;\n",
              "    }\n",
              "</style>\n",
              "<table border=\"1\" class=\"dataframe\">\n",
              "  <thead>\n",
              "    <tr style=\"text-align: right;\">\n",
              "      <th></th>\n",
              "      <th>loan_id</th>\n",
              "      <th>source</th>\n",
              "      <th>financial_institution</th>\n",
              "      <th>interest_rate</th>\n",
              "      <th>unpaid_principal_bal</th>\n",
              "      <th>loan_term</th>\n",
              "      <th>origination_date</th>\n",
              "      <th>first_payment_date</th>\n",
              "      <th>loan_to_value</th>\n",
              "      <th>number_of_borrowers</th>\n",
              "      <th>...</th>\n",
              "      <th>m4</th>\n",
              "      <th>m5</th>\n",
              "      <th>m6</th>\n",
              "      <th>m7</th>\n",
              "      <th>m8</th>\n",
              "      <th>m9</th>\n",
              "      <th>m10</th>\n",
              "      <th>m11</th>\n",
              "      <th>m12</th>\n",
              "      <th>m13</th>\n",
              "    </tr>\n",
              "  </thead>\n",
              "  <tbody>\n",
              "    <tr>\n",
              "      <th>0</th>\n",
              "      <td>268055008619</td>\n",
              "      <td>Z</td>\n",
              "      <td>Turner, Baldwin and Rhodes</td>\n",
              "      <td>4.250</td>\n",
              "      <td>214000</td>\n",
              "      <td>360</td>\n",
              "      <td>2012-03-01</td>\n",
              "      <td>05/2012</td>\n",
              "      <td>95</td>\n",
              "      <td>1.0</td>\n",
              "      <td>...</td>\n",
              "      <td>0</td>\n",
              "      <td>0</td>\n",
              "      <td>0</td>\n",
              "      <td>1</td>\n",
              "      <td>0</td>\n",
              "      <td>0</td>\n",
              "      <td>0</td>\n",
              "      <td>0</td>\n",
              "      <td>0</td>\n",
              "      <td>1</td>\n",
              "    </tr>\n",
              "    <tr>\n",
              "      <th>1</th>\n",
              "      <td>672831657627</td>\n",
              "      <td>Y</td>\n",
              "      <td>Swanson, Newton and Miller</td>\n",
              "      <td>4.875</td>\n",
              "      <td>144000</td>\n",
              "      <td>360</td>\n",
              "      <td>2012-01-01</td>\n",
              "      <td>03/2012</td>\n",
              "      <td>72</td>\n",
              "      <td>1.0</td>\n",
              "      <td>...</td>\n",
              "      <td>0</td>\n",
              "      <td>0</td>\n",
              "      <td>0</td>\n",
              "      <td>0</td>\n",
              "      <td>0</td>\n",
              "      <td>0</td>\n",
              "      <td>0</td>\n",
              "      <td>1</td>\n",
              "      <td>0</td>\n",
              "      <td>1</td>\n",
              "    </tr>\n",
              "    <tr>\n",
              "      <th>2</th>\n",
              "      <td>742515242108</td>\n",
              "      <td>Z</td>\n",
              "      <td>Thornton-Davis</td>\n",
              "      <td>3.250</td>\n",
              "      <td>366000</td>\n",
              "      <td>180</td>\n",
              "      <td>2012-01-01</td>\n",
              "      <td>03/2012</td>\n",
              "      <td>49</td>\n",
              "      <td>1.0</td>\n",
              "      <td>...</td>\n",
              "      <td>0</td>\n",
              "      <td>0</td>\n",
              "      <td>0</td>\n",
              "      <td>0</td>\n",
              "      <td>0</td>\n",
              "      <td>0</td>\n",
              "      <td>0</td>\n",
              "      <td>0</td>\n",
              "      <td>0</td>\n",
              "      <td>1</td>\n",
              "    </tr>\n",
              "    <tr>\n",
              "      <th>3</th>\n",
              "      <td>601385667462</td>\n",
              "      <td>X</td>\n",
              "      <td>OTHER</td>\n",
              "      <td>4.750</td>\n",
              "      <td>135000</td>\n",
              "      <td>360</td>\n",
              "      <td>2012-02-01</td>\n",
              "      <td>04/2012</td>\n",
              "      <td>46</td>\n",
              "      <td>2.0</td>\n",
              "      <td>...</td>\n",
              "      <td>0</td>\n",
              "      <td>0</td>\n",
              "      <td>0</td>\n",
              "      <td>0</td>\n",
              "      <td>0</td>\n",
              "      <td>1</td>\n",
              "      <td>1</td>\n",
              "      <td>1</td>\n",
              "      <td>1</td>\n",
              "      <td>1</td>\n",
              "    </tr>\n",
              "    <tr>\n",
              "      <th>4</th>\n",
              "      <td>273870029961</td>\n",
              "      <td>X</td>\n",
              "      <td>OTHER</td>\n",
              "      <td>4.750</td>\n",
              "      <td>124000</td>\n",
              "      <td>360</td>\n",
              "      <td>2012-02-01</td>\n",
              "      <td>04/2012</td>\n",
              "      <td>80</td>\n",
              "      <td>1.0</td>\n",
              "      <td>...</td>\n",
              "      <td>3</td>\n",
              "      <td>4</td>\n",
              "      <td>5</td>\n",
              "      <td>6</td>\n",
              "      <td>7</td>\n",
              "      <td>8</td>\n",
              "      <td>9</td>\n",
              "      <td>10</td>\n",
              "      <td>11</td>\n",
              "      <td>1</td>\n",
              "    </tr>\n",
              "  </tbody>\n",
              "</table>\n",
              "<p>5 rows × 29 columns</p>\n",
              "</div>\n",
              "      <button class=\"colab-df-convert\" onclick=\"convertToInteractive('df-4887c21e-9853-4f1c-92fa-f2613c2a099f')\"\n",
              "              title=\"Convert this dataframe to an interactive table.\"\n",
              "              style=\"display:none;\">\n",
              "        \n",
              "  <svg xmlns=\"http://www.w3.org/2000/svg\" height=\"24px\"viewBox=\"0 0 24 24\"\n",
              "       width=\"24px\">\n",
              "    <path d=\"M0 0h24v24H0V0z\" fill=\"none\"/>\n",
              "    <path d=\"M18.56 5.44l.94 2.06.94-2.06 2.06-.94-2.06-.94-.94-2.06-.94 2.06-2.06.94zm-11 1L8.5 8.5l.94-2.06 2.06-.94-2.06-.94L8.5 2.5l-.94 2.06-2.06.94zm10 10l.94 2.06.94-2.06 2.06-.94-2.06-.94-.94-2.06-.94 2.06-2.06.94z\"/><path d=\"M17.41 7.96l-1.37-1.37c-.4-.4-.92-.59-1.43-.59-.52 0-1.04.2-1.43.59L10.3 9.45l-7.72 7.72c-.78.78-.78 2.05 0 2.83L4 21.41c.39.39.9.59 1.41.59.51 0 1.02-.2 1.41-.59l7.78-7.78 2.81-2.81c.8-.78.8-2.07 0-2.86zM5.41 20L4 18.59l7.72-7.72 1.47 1.35L5.41 20z\"/>\n",
              "  </svg>\n",
              "      </button>\n",
              "      \n",
              "  <style>\n",
              "    .colab-df-container {\n",
              "      display:flex;\n",
              "      flex-wrap:wrap;\n",
              "      gap: 12px;\n",
              "    }\n",
              "\n",
              "    .colab-df-convert {\n",
              "      background-color: #E8F0FE;\n",
              "      border: none;\n",
              "      border-radius: 50%;\n",
              "      cursor: pointer;\n",
              "      display: none;\n",
              "      fill: #1967D2;\n",
              "      height: 32px;\n",
              "      padding: 0 0 0 0;\n",
              "      width: 32px;\n",
              "    }\n",
              "\n",
              "    .colab-df-convert:hover {\n",
              "      background-color: #E2EBFA;\n",
              "      box-shadow: 0px 1px 2px rgba(60, 64, 67, 0.3), 0px 1px 3px 1px rgba(60, 64, 67, 0.15);\n",
              "      fill: #174EA6;\n",
              "    }\n",
              "\n",
              "    [theme=dark] .colab-df-convert {\n",
              "      background-color: #3B4455;\n",
              "      fill: #D2E3FC;\n",
              "    }\n",
              "\n",
              "    [theme=dark] .colab-df-convert:hover {\n",
              "      background-color: #434B5C;\n",
              "      box-shadow: 0px 1px 3px 1px rgba(0, 0, 0, 0.15);\n",
              "      filter: drop-shadow(0px 1px 2px rgba(0, 0, 0, 0.3));\n",
              "      fill: #FFFFFF;\n",
              "    }\n",
              "  </style>\n",
              "\n",
              "      <script>\n",
              "        const buttonEl =\n",
              "          document.querySelector('#df-4887c21e-9853-4f1c-92fa-f2613c2a099f button.colab-df-convert');\n",
              "        buttonEl.style.display =\n",
              "          google.colab.kernel.accessAllowed ? 'block' : 'none';\n",
              "\n",
              "        async function convertToInteractive(key) {\n",
              "          const element = document.querySelector('#df-4887c21e-9853-4f1c-92fa-f2613c2a099f');\n",
              "          const dataTable =\n",
              "            await google.colab.kernel.invokeFunction('convertToInteractive',\n",
              "                                                     [key], {});\n",
              "          if (!dataTable) return;\n",
              "\n",
              "          const docLinkHtml = 'Like what you see? Visit the ' +\n",
              "            '<a target=\"_blank\" href=https://colab.research.google.com/notebooks/data_table.ipynb>data table notebook</a>'\n",
              "            + ' to learn more about interactive tables.';\n",
              "          element.innerHTML = '';\n",
              "          dataTable['output_type'] = 'display_data';\n",
              "          await google.colab.output.renderOutput(dataTable, element);\n",
              "          const docLink = document.createElement('div');\n",
              "          docLink.innerHTML = docLinkHtml;\n",
              "          element.appendChild(docLink);\n",
              "        }\n",
              "      </script>\n",
              "    </div>\n",
              "  </div>\n",
              "  "
            ]
          },
          "metadata": {},
          "execution_count": 3
        }
      ]
    },
    {
      "cell_type": "code",
      "source": [
        "df.tail()"
      ],
      "metadata": {
        "colab": {
          "base_uri": "https://localhost:8080/",
          "height": 299
        },
        "id": "vHJ1-nKPjkOH",
        "outputId": "c82a7fc2-0c15-4889-a6eb-fc10282f4b6a"
      },
      "execution_count": 4,
      "outputs": [
        {
          "output_type": "execute_result",
          "data": {
            "text/plain": [
              "             loan_id source financial_institution  interest_rate  \\\n",
              "116053  382119962287      Y         Browning-Hart          4.125   \n",
              "116054  582803915466      Z                 OTHER          3.000   \n",
              "116055  837922316947      X                 OTHER          3.875   \n",
              "116056  477343182138      X                 OTHER          4.250   \n",
              "116057  763308490661      Z        Thornton-Davis          3.375   \n",
              "\n",
              "        unpaid_principal_bal  loan_term origination_date first_payment_date  \\\n",
              "116053                153000        360       2012-02-01            04/2012   \n",
              "116054                150000        120       2012-01-01            03/2012   \n",
              "116055                166000        360       2012-02-01            04/2012   \n",
              "116056                169000        360       2012-02-01            04/2012   \n",
              "116057                252000        180       2012-01-01            03/2012   \n",
              "\n",
              "        loan_to_value  number_of_borrowers  ...  m4  m5 m6  m7  m8  m9  m10  \\\n",
              "116053             88                  2.0  ...   0   0  0   0   0   0    0   \n",
              "116054             35                  1.0  ...   0   0  0   0   0   0    0   \n",
              "116055             58                  2.0  ...   0   0  0   0   0   0    0   \n",
              "116056             74                  2.0  ...   0   0  0   0   0   0    0   \n",
              "116057             29                  2.0  ...   0   0  0   0   0   0    0   \n",
              "\n",
              "        m11  m12  m13  \n",
              "116053    0    0    0  \n",
              "116054    0    0    0  \n",
              "116055    0    0    0  \n",
              "116056    0    0    0  \n",
              "116057    0    0    0  \n",
              "\n",
              "[5 rows x 29 columns]"
            ],
            "text/html": [
              "\n",
              "  <div id=\"df-122c9748-137c-4d9e-8611-7302f9143482\">\n",
              "    <div class=\"colab-df-container\">\n",
              "      <div>\n",
              "<style scoped>\n",
              "    .dataframe tbody tr th:only-of-type {\n",
              "        vertical-align: middle;\n",
              "    }\n",
              "\n",
              "    .dataframe tbody tr th {\n",
              "        vertical-align: top;\n",
              "    }\n",
              "\n",
              "    .dataframe thead th {\n",
              "        text-align: right;\n",
              "    }\n",
              "</style>\n",
              "<table border=\"1\" class=\"dataframe\">\n",
              "  <thead>\n",
              "    <tr style=\"text-align: right;\">\n",
              "      <th></th>\n",
              "      <th>loan_id</th>\n",
              "      <th>source</th>\n",
              "      <th>financial_institution</th>\n",
              "      <th>interest_rate</th>\n",
              "      <th>unpaid_principal_bal</th>\n",
              "      <th>loan_term</th>\n",
              "      <th>origination_date</th>\n",
              "      <th>first_payment_date</th>\n",
              "      <th>loan_to_value</th>\n",
              "      <th>number_of_borrowers</th>\n",
              "      <th>...</th>\n",
              "      <th>m4</th>\n",
              "      <th>m5</th>\n",
              "      <th>m6</th>\n",
              "      <th>m7</th>\n",
              "      <th>m8</th>\n",
              "      <th>m9</th>\n",
              "      <th>m10</th>\n",
              "      <th>m11</th>\n",
              "      <th>m12</th>\n",
              "      <th>m13</th>\n",
              "    </tr>\n",
              "  </thead>\n",
              "  <tbody>\n",
              "    <tr>\n",
              "      <th>116053</th>\n",
              "      <td>382119962287</td>\n",
              "      <td>Y</td>\n",
              "      <td>Browning-Hart</td>\n",
              "      <td>4.125</td>\n",
              "      <td>153000</td>\n",
              "      <td>360</td>\n",
              "      <td>2012-02-01</td>\n",
              "      <td>04/2012</td>\n",
              "      <td>88</td>\n",
              "      <td>2.0</td>\n",
              "      <td>...</td>\n",
              "      <td>0</td>\n",
              "      <td>0</td>\n",
              "      <td>0</td>\n",
              "      <td>0</td>\n",
              "      <td>0</td>\n",
              "      <td>0</td>\n",
              "      <td>0</td>\n",
              "      <td>0</td>\n",
              "      <td>0</td>\n",
              "      <td>0</td>\n",
              "    </tr>\n",
              "    <tr>\n",
              "      <th>116054</th>\n",
              "      <td>582803915466</td>\n",
              "      <td>Z</td>\n",
              "      <td>OTHER</td>\n",
              "      <td>3.000</td>\n",
              "      <td>150000</td>\n",
              "      <td>120</td>\n",
              "      <td>2012-01-01</td>\n",
              "      <td>03/2012</td>\n",
              "      <td>35</td>\n",
              "      <td>1.0</td>\n",
              "      <td>...</td>\n",
              "      <td>0</td>\n",
              "      <td>0</td>\n",
              "      <td>0</td>\n",
              "      <td>0</td>\n",
              "      <td>0</td>\n",
              "      <td>0</td>\n",
              "      <td>0</td>\n",
              "      <td>0</td>\n",
              "      <td>0</td>\n",
              "      <td>0</td>\n",
              "    </tr>\n",
              "    <tr>\n",
              "      <th>116055</th>\n",
              "      <td>837922316947</td>\n",
              "      <td>X</td>\n",
              "      <td>OTHER</td>\n",
              "      <td>3.875</td>\n",
              "      <td>166000</td>\n",
              "      <td>360</td>\n",
              "      <td>2012-02-01</td>\n",
              "      <td>04/2012</td>\n",
              "      <td>58</td>\n",
              "      <td>2.0</td>\n",
              "      <td>...</td>\n",
              "      <td>0</td>\n",
              "      <td>0</td>\n",
              "      <td>0</td>\n",
              "      <td>0</td>\n",
              "      <td>0</td>\n",
              "      <td>0</td>\n",
              "      <td>0</td>\n",
              "      <td>0</td>\n",
              "      <td>0</td>\n",
              "      <td>0</td>\n",
              "    </tr>\n",
              "    <tr>\n",
              "      <th>116056</th>\n",
              "      <td>477343182138</td>\n",
              "      <td>X</td>\n",
              "      <td>OTHER</td>\n",
              "      <td>4.250</td>\n",
              "      <td>169000</td>\n",
              "      <td>360</td>\n",
              "      <td>2012-02-01</td>\n",
              "      <td>04/2012</td>\n",
              "      <td>74</td>\n",
              "      <td>2.0</td>\n",
              "      <td>...</td>\n",
              "      <td>0</td>\n",
              "      <td>0</td>\n",
              "      <td>0</td>\n",
              "      <td>0</td>\n",
              "      <td>0</td>\n",
              "      <td>0</td>\n",
              "      <td>0</td>\n",
              "      <td>0</td>\n",
              "      <td>0</td>\n",
              "      <td>0</td>\n",
              "    </tr>\n",
              "    <tr>\n",
              "      <th>116057</th>\n",
              "      <td>763308490661</td>\n",
              "      <td>Z</td>\n",
              "      <td>Thornton-Davis</td>\n",
              "      <td>3.375</td>\n",
              "      <td>252000</td>\n",
              "      <td>180</td>\n",
              "      <td>2012-01-01</td>\n",
              "      <td>03/2012</td>\n",
              "      <td>29</td>\n",
              "      <td>2.0</td>\n",
              "      <td>...</td>\n",
              "      <td>0</td>\n",
              "      <td>0</td>\n",
              "      <td>0</td>\n",
              "      <td>0</td>\n",
              "      <td>0</td>\n",
              "      <td>0</td>\n",
              "      <td>0</td>\n",
              "      <td>0</td>\n",
              "      <td>0</td>\n",
              "      <td>0</td>\n",
              "    </tr>\n",
              "  </tbody>\n",
              "</table>\n",
              "<p>5 rows × 29 columns</p>\n",
              "</div>\n",
              "      <button class=\"colab-df-convert\" onclick=\"convertToInteractive('df-122c9748-137c-4d9e-8611-7302f9143482')\"\n",
              "              title=\"Convert this dataframe to an interactive table.\"\n",
              "              style=\"display:none;\">\n",
              "        \n",
              "  <svg xmlns=\"http://www.w3.org/2000/svg\" height=\"24px\"viewBox=\"0 0 24 24\"\n",
              "       width=\"24px\">\n",
              "    <path d=\"M0 0h24v24H0V0z\" fill=\"none\"/>\n",
              "    <path d=\"M18.56 5.44l.94 2.06.94-2.06 2.06-.94-2.06-.94-.94-2.06-.94 2.06-2.06.94zm-11 1L8.5 8.5l.94-2.06 2.06-.94-2.06-.94L8.5 2.5l-.94 2.06-2.06.94zm10 10l.94 2.06.94-2.06 2.06-.94-2.06-.94-.94-2.06-.94 2.06-2.06.94z\"/><path d=\"M17.41 7.96l-1.37-1.37c-.4-.4-.92-.59-1.43-.59-.52 0-1.04.2-1.43.59L10.3 9.45l-7.72 7.72c-.78.78-.78 2.05 0 2.83L4 21.41c.39.39.9.59 1.41.59.51 0 1.02-.2 1.41-.59l7.78-7.78 2.81-2.81c.8-.78.8-2.07 0-2.86zM5.41 20L4 18.59l7.72-7.72 1.47 1.35L5.41 20z\"/>\n",
              "  </svg>\n",
              "      </button>\n",
              "      \n",
              "  <style>\n",
              "    .colab-df-container {\n",
              "      display:flex;\n",
              "      flex-wrap:wrap;\n",
              "      gap: 12px;\n",
              "    }\n",
              "\n",
              "    .colab-df-convert {\n",
              "      background-color: #E8F0FE;\n",
              "      border: none;\n",
              "      border-radius: 50%;\n",
              "      cursor: pointer;\n",
              "      display: none;\n",
              "      fill: #1967D2;\n",
              "      height: 32px;\n",
              "      padding: 0 0 0 0;\n",
              "      width: 32px;\n",
              "    }\n",
              "\n",
              "    .colab-df-convert:hover {\n",
              "      background-color: #E2EBFA;\n",
              "      box-shadow: 0px 1px 2px rgba(60, 64, 67, 0.3), 0px 1px 3px 1px rgba(60, 64, 67, 0.15);\n",
              "      fill: #174EA6;\n",
              "    }\n",
              "\n",
              "    [theme=dark] .colab-df-convert {\n",
              "      background-color: #3B4455;\n",
              "      fill: #D2E3FC;\n",
              "    }\n",
              "\n",
              "    [theme=dark] .colab-df-convert:hover {\n",
              "      background-color: #434B5C;\n",
              "      box-shadow: 0px 1px 3px 1px rgba(0, 0, 0, 0.15);\n",
              "      filter: drop-shadow(0px 1px 2px rgba(0, 0, 0, 0.3));\n",
              "      fill: #FFFFFF;\n",
              "    }\n",
              "  </style>\n",
              "\n",
              "      <script>\n",
              "        const buttonEl =\n",
              "          document.querySelector('#df-122c9748-137c-4d9e-8611-7302f9143482 button.colab-df-convert');\n",
              "        buttonEl.style.display =\n",
              "          google.colab.kernel.accessAllowed ? 'block' : 'none';\n",
              "\n",
              "        async function convertToInteractive(key) {\n",
              "          const element = document.querySelector('#df-122c9748-137c-4d9e-8611-7302f9143482');\n",
              "          const dataTable =\n",
              "            await google.colab.kernel.invokeFunction('convertToInteractive',\n",
              "                                                     [key], {});\n",
              "          if (!dataTable) return;\n",
              "\n",
              "          const docLinkHtml = 'Like what you see? Visit the ' +\n",
              "            '<a target=\"_blank\" href=https://colab.research.google.com/notebooks/data_table.ipynb>data table notebook</a>'\n",
              "            + ' to learn more about interactive tables.';\n",
              "          element.innerHTML = '';\n",
              "          dataTable['output_type'] = 'display_data';\n",
              "          await google.colab.output.renderOutput(dataTable, element);\n",
              "          const docLink = document.createElement('div');\n",
              "          docLink.innerHTML = docLinkHtml;\n",
              "          element.appendChild(docLink);\n",
              "        }\n",
              "      </script>\n",
              "    </div>\n",
              "  </div>\n",
              "  "
            ]
          },
          "metadata": {},
          "execution_count": 4
        }
      ]
    },
    {
      "cell_type": "code",
      "source": [
        "df.info()"
      ],
      "metadata": {
        "colab": {
          "base_uri": "https://localhost:8080/"
        },
        "id": "u88njgnmjmEg",
        "outputId": "4312bec7-6b16-42ad-87e3-df0672178f76"
      },
      "execution_count": 5,
      "outputs": [
        {
          "output_type": "stream",
          "name": "stdout",
          "text": [
            "<class 'pandas.core.frame.DataFrame'>\n",
            "RangeIndex: 116058 entries, 0 to 116057\n",
            "Data columns (total 29 columns):\n",
            " #   Column                    Non-Null Count   Dtype  \n",
            "---  ------                    --------------   -----  \n",
            " 0   loan_id                   116058 non-null  int64  \n",
            " 1   source                    116058 non-null  object \n",
            " 2   financial_institution     116058 non-null  object \n",
            " 3   interest_rate             116058 non-null  float64\n",
            " 4   unpaid_principal_bal      116058 non-null  int64  \n",
            " 5   loan_term                 116058 non-null  int64  \n",
            " 6   origination_date          116058 non-null  object \n",
            " 7   first_payment_date        116058 non-null  object \n",
            " 8   loan_to_value             116058 non-null  int64  \n",
            " 9   number_of_borrowers       116058 non-null  float64\n",
            " 10  debt_to_income_ratio      116058 non-null  float64\n",
            " 11  borrower_credit_score     116058 non-null  float64\n",
            " 12  loan_purpose              116058 non-null  object \n",
            " 13  insurance_percent         116058 non-null  float64\n",
            " 14  co-borrower_credit_score  116058 non-null  float64\n",
            " 15  insurance_type            116058 non-null  float64\n",
            " 16  m1                        116058 non-null  int64  \n",
            " 17  m2                        116058 non-null  int64  \n",
            " 18  m3                        116058 non-null  int64  \n",
            " 19  m4                        116058 non-null  int64  \n",
            " 20  m5                        116058 non-null  int64  \n",
            " 21  m6                        116058 non-null  int64  \n",
            " 22  m7                        116058 non-null  int64  \n",
            " 23  m8                        116058 non-null  int64  \n",
            " 24  m9                        116058 non-null  int64  \n",
            " 25  m10                       116058 non-null  int64  \n",
            " 26  m11                       116058 non-null  int64  \n",
            " 27  m12                       116058 non-null  int64  \n",
            " 28  m13                       116058 non-null  int64  \n",
            "dtypes: float64(7), int64(17), object(5)\n",
            "memory usage: 25.7+ MB\n"
          ]
        }
      ]
    },
    {
      "cell_type": "code",
      "source": [
        "df.columns"
      ],
      "metadata": {
        "colab": {
          "base_uri": "https://localhost:8080/"
        },
        "id": "yvE71PZjjp49",
        "outputId": "febb0166-7882-475c-9f39-c90f6a4a3b1c"
      },
      "execution_count": 6,
      "outputs": [
        {
          "output_type": "execute_result",
          "data": {
            "text/plain": [
              "Index(['loan_id', 'source', 'financial_institution', 'interest_rate',\n",
              "       'unpaid_principal_bal', 'loan_term', 'origination_date',\n",
              "       'first_payment_date', 'loan_to_value', 'number_of_borrowers',\n",
              "       'debt_to_income_ratio', 'borrower_credit_score', 'loan_purpose',\n",
              "       'insurance_percent', 'co-borrower_credit_score', 'insurance_type', 'm1',\n",
              "       'm2', 'm3', 'm4', 'm5', 'm6', 'm7', 'm8', 'm9', 'm10', 'm11', 'm12',\n",
              "       'm13'],\n",
              "      dtype='object')"
            ]
          },
          "metadata": {},
          "execution_count": 6
        }
      ]
    },
    {
      "cell_type": "code",
      "source": [
        "# finding missing values"
      ],
      "metadata": {
        "id": "_zXe1KVwmR2c"
      },
      "execution_count": 7,
      "outputs": []
    },
    {
      "cell_type": "code",
      "source": [
        "df.isna().sum()"
      ],
      "metadata": {
        "colab": {
          "base_uri": "https://localhost:8080/"
        },
        "id": "z_4Yd-9Emfyp",
        "outputId": "7cc5e5ba-ed63-4e13-ad88-541c446496f8"
      },
      "execution_count": 8,
      "outputs": [
        {
          "output_type": "execute_result",
          "data": {
            "text/plain": [
              "loan_id                     0\n",
              "source                      0\n",
              "financial_institution       0\n",
              "interest_rate               0\n",
              "unpaid_principal_bal        0\n",
              "loan_term                   0\n",
              "origination_date            0\n",
              "first_payment_date          0\n",
              "loan_to_value               0\n",
              "number_of_borrowers         0\n",
              "debt_to_income_ratio        0\n",
              "borrower_credit_score       0\n",
              "loan_purpose                0\n",
              "insurance_percent           0\n",
              "co-borrower_credit_score    0\n",
              "insurance_type              0\n",
              "m1                          0\n",
              "m2                          0\n",
              "m3                          0\n",
              "m4                          0\n",
              "m5                          0\n",
              "m6                          0\n",
              "m7                          0\n",
              "m8                          0\n",
              "m9                          0\n",
              "m10                         0\n",
              "m11                         0\n",
              "m12                         0\n",
              "m13                         0\n",
              "dtype: int64"
            ]
          },
          "metadata": {},
          "execution_count": 8
        }
      ]
    },
    {
      "cell_type": "code",
      "source": [
        "df['source'].value_counts()"
      ],
      "metadata": {
        "colab": {
          "base_uri": "https://localhost:8080/"
        },
        "id": "HOOqmSwIXyEZ",
        "outputId": "6874a51d-4900-456c-a1e2-6c5fb60c2f9e"
      },
      "execution_count": 9,
      "outputs": [
        {
          "output_type": "execute_result",
          "data": {
            "text/plain": [
              "X    63858\n",
              "Y    37554\n",
              "Z    14646\n",
              "Name: source, dtype: int64"
            ]
          },
          "metadata": {},
          "execution_count": 9
        }
      ]
    },
    {
      "cell_type": "code",
      "source": [
        "df['financial_institution'].nunique()"
      ],
      "metadata": {
        "colab": {
          "base_uri": "https://localhost:8080/"
        },
        "id": "fMAeg2QDYESt",
        "outputId": "c35f4267-80c5-493b-8c84-9c36347c2ea4"
      },
      "execution_count": 10,
      "outputs": [
        {
          "output_type": "execute_result",
          "data": {
            "text/plain": [
              "19"
            ]
          },
          "metadata": {},
          "execution_count": 10
        }
      ]
    },
    {
      "cell_type": "code",
      "source": [
        "df['financial_institution'].value_counts(normalize = True) * 100"
      ],
      "metadata": {
        "colab": {
          "base_uri": "https://localhost:8080/"
        },
        "id": "pEkUOnOiYOxs",
        "outputId": "83e2e79a-f46a-4405-a9bb-0290ab64cfeb"
      },
      "execution_count": 11,
      "outputs": [
        {
          "output_type": "execute_result",
          "data": {
            "text/plain": [
              "OTHER                          42.822554\n",
              "Browning-Hart                  27.444898\n",
              "Swanson, Newton and Miller      5.922901\n",
              "Edwards-Hoffman                 4.184976\n",
              "Martinez, Duffy and Bird        4.062624\n",
              "Miller, Mcclure and Allen       2.721053\n",
              "Nicholson Group                 1.823226\n",
              "Turner, Baldwin and Rhodes      1.590584\n",
              "Suarez Inc                      1.542332\n",
              "Cole, Brooks and Vincent        1.414810\n",
              "Richards-Walters                1.257130\n",
              "Taylor, Hunt and Rodriguez      1.084802\n",
              "Sanchez-Robinson                1.027934\n",
              "Sanchez, Hays and Wilkerson     0.734977\n",
              "Romero, Woods and Johnson       0.646229\n",
              "Thornton-Davis                  0.560926\n",
              "Anderson-Taylor                 0.416171\n",
              "Richardson Ltd                  0.407555\n",
              "Chapman-Mcmahon                 0.334316\n",
              "Name: financial_institution, dtype: float64"
            ]
          },
          "metadata": {},
          "execution_count": 11
        }
      ]
    },
    {
      "cell_type": "code",
      "source": [
        "df['interest_rate'].describe()"
      ],
      "metadata": {
        "colab": {
          "base_uri": "https://localhost:8080/"
        },
        "id": "Us7Rr-o-Y2ce",
        "outputId": "bebcf4c6-7c10-4236-d033-4d1329361a2c"
      },
      "execution_count": 12,
      "outputs": [
        {
          "output_type": "execute_result",
          "data": {
            "text/plain": [
              "count    116058.000000\n",
              "mean          3.868961\n",
              "std           0.461020\n",
              "min           2.250000\n",
              "25%           3.500000\n",
              "50%           3.875000\n",
              "75%           4.125000\n",
              "max           6.750000\n",
              "Name: interest_rate, dtype: float64"
            ]
          },
          "metadata": {},
          "execution_count": 12
        }
      ]
    },
    {
      "cell_type": "code",
      "source": [
        "df['interest_rate'].plot(kind=\"box\")\n",
        "plt.show()"
      ],
      "metadata": {
        "colab": {
          "base_uri": "https://localhost:8080/",
          "height": 430
        },
        "id": "-CAmhqEGZJI3",
        "outputId": "109b7697-2226-4f4c-e609-4df97b4041b8"
      },
      "execution_count": 13,
      "outputs": [
        {
          "output_type": "display_data",
          "data": {
            "text/plain": [
              "<Figure size 640x480 with 1 Axes>"
            ],
            "image/png": "[encoded data removed]"
          },
          "metadata": {}
        }
      ]
    },
    {
      "cell_type": "code",
      "source": [
        "df['unpaid_principal_bal'].plot(kind=\"box\")\n",
        "plt.show()"
      ],
      "metadata": {
        "colab": {
          "base_uri": "https://localhost:8080/",
          "height": 445
        },
        "id": "w1BOllpOZp9w",
        "outputId": "5a5c80e4-38b5-4c2b-e0cb-575b0f22180b"
      },
      "execution_count": 14,
      "outputs": [
        {
          "output_type": "display_data",
          "data": {
            "text/plain": [
              "<Figure size 640x480 with 1 Axes>"
            ],
            "image/png": "[encoded data removed]"
          },
          "metadata": {}
        }
      ]
    },
    {
      "cell_type": "code",
      "source": [
        "df['unpaid_principal_bal'].describe().round()"
      ],
      "metadata": {
        "colab": {
          "base_uri": "https://localhost:8080/"
        },
        "id": "VxLmN86RZdfD",
        "outputId": "6269a7ac-a706-490c-d6cd-2a74f9e119c0"
      },
      "execution_count": 15,
      "outputs": [
        {
          "output_type": "execute_result",
          "data": {
            "text/plain": [
              "count     116058.0\n",
              "mean      208226.0\n",
              "std       114685.0\n",
              "min        11000.0\n",
              "25%       120000.0\n",
              "50%       183000.0\n",
              "75%       278000.0\n",
              "max      1200000.0\n",
              "Name: unpaid_principal_bal, dtype: float64"
            ]
          },
          "metadata": {},
          "execution_count": 15
        }
      ]
    },
    {
      "cell_type": "code",
      "source": [
        "df[df['unpaid_principal_bal'] > 1000000].index"
      ],
      "metadata": {
        "id": "AcE6P_9HnNy2",
        "colab": {
          "base_uri": "https://localhost:8080/"
        },
        "outputId": "e836940a-fca5-4c2e-e7ad-889656cd140d"
      },
      "execution_count": 16,
      "outputs": [
        {
          "output_type": "execute_result",
          "data": {
            "text/plain": [
              "Int64Index([84135], dtype='int64')"
            ]
          },
          "metadata": {},
          "execution_count": 16
        }
      ]
    },
    {
      "cell_type": "code",
      "source": [
        "df = df.drop(84135)"
      ],
      "metadata": {
        "id": "haClgVquaitY"
      },
      "execution_count": 17,
      "outputs": []
    },
    {
      "cell_type": "code",
      "source": [
        "df.info()"
      ],
      "metadata": {
        "colab": {
          "base_uri": "https://localhost:8080/"
        },
        "id": "C2ATxa-fbUP0",
        "outputId": "1b763605-9617-4936-f6d5-26a03d185ec5"
      },
      "execution_count": 18,
      "outputs": [
        {
          "output_type": "stream",
          "name": "stdout",
          "text": [
            "<class 'pandas.core.frame.DataFrame'>\n",
            "Int64Index: 116057 entries, 0 to 116057\n",
            "Data columns (total 29 columns):\n",
            " #   Column                    Non-Null Count   Dtype  \n",
            "---  ------                    --------------   -----  \n",
            " 0   loan_id                   116057 non-null  int64  \n",
            " 1   source                    116057 non-null  object \n",
            " 2   financial_institution     116057 non-null  object \n",
            " 3   interest_rate             116057 non-null  float64\n",
            " 4   unpaid_principal_bal      116057 non-null  int64  \n",
            " 5   loan_term                 116057 non-null  int64  \n",
            " 6   origination_date          116057 non-null  object \n",
            " 7   first_payment_date        116057 non-null  object \n",
            " 8   loan_to_value             116057 non-null  int64  \n",
            " 9   number_of_borrowers       116057 non-null  float64\n",
            " 10  debt_to_income_ratio      116057 non-null  float64\n",
            " 11  borrower_credit_score     116057 non-null  float64\n",
            " 12  loan_purpose              116057 non-null  object \n",
            " 13  insurance_percent         116057 non-null  float64\n",
            " 14  co-borrower_credit_score  116057 non-null  float64\n",
            " 15  insurance_type            116057 non-null  float64\n",
            " 16  m1                        116057 non-null  int64  \n",
            " 17  m2                        116057 non-null  int64  \n",
            " 18  m3                        116057 non-null  int64  \n",
            " 19  m4                        116057 non-null  int64  \n",
            " 20  m5                        116057 non-null  int64  \n",
            " 21  m6                        116057 non-null  int64  \n",
            " 22  m7                        116057 non-null  int64  \n",
            " 23  m8                        116057 non-null  int64  \n",
            " 24  m9                        116057 non-null  int64  \n",
            " 25  m10                       116057 non-null  int64  \n",
            " 26  m11                       116057 non-null  int64  \n",
            " 27  m12                       116057 non-null  int64  \n",
            " 28  m13                       116057 non-null  int64  \n",
            "dtypes: float64(7), int64(17), object(5)\n",
            "memory usage: 26.6+ MB\n"
          ]
        }
      ]
    },
    {
      "cell_type": "code",
      "source": [
        "df['loan_term'].describe()"
      ],
      "metadata": {
        "colab": {
          "base_uri": "https://localhost:8080/"
        },
        "id": "BUrEcC08bak2",
        "outputId": "e91effde-86ec-480d-fdbd-da58fcd7caa9"
      },
      "execution_count": 19,
      "outputs": [
        {
          "output_type": "execute_result",
          "data": {
            "text/plain": [
              "count    116057.000000\n",
              "mean        292.281965\n",
              "std          89.762196\n",
              "min          60.000000\n",
              "25%         180.000000\n",
              "50%         360.000000\n",
              "75%         360.000000\n",
              "max         360.000000\n",
              "Name: loan_term, dtype: float64"
            ]
          },
          "metadata": {},
          "execution_count": 19
        }
      ]
    },
    {
      "cell_type": "code",
      "source": [
        "df['loan_to_value'].describe()   #0 to 100"
      ],
      "metadata": {
        "colab": {
          "base_uri": "https://localhost:8080/"
        },
        "id": "Fc2b9oo1ofr3",
        "outputId": "d9a6928a-503b-4f0f-9236-dd7c8d6a8f09"
      },
      "execution_count": 20,
      "outputs": [
        {
          "output_type": "execute_result",
          "data": {
            "text/plain": [
              "count    116057.000000\n",
              "mean         67.432098\n",
              "std          17.291709\n",
              "min           6.000000\n",
              "25%          57.000000\n",
              "50%          72.000000\n",
              "75%          80.000000\n",
              "max          97.000000\n",
              "Name: loan_to_value, dtype: float64"
            ]
          },
          "metadata": {},
          "execution_count": 20
        }
      ]
    },
    {
      "cell_type": "code",
      "source": [
        "df['loan_to_value'].plot(kind=\"box\")"
      ],
      "metadata": {
        "colab": {
          "base_uri": "https://localhost:8080/",
          "height": 447
        },
        "id": "mg439BtWo5Rt",
        "outputId": "93839aba-e3f4-433a-e18a-fe6fcb2623a2"
      },
      "execution_count": 21,
      "outputs": [
        {
          "output_type": "execute_result",
          "data": {
            "text/plain": [
              "<Axes: >"
            ]
          },
          "metadata": {},
          "execution_count": 21
        },
        {
          "output_type": "display_data",
          "data": {
            "text/plain": [
              "<Figure size 640x480 with 1 Axes>"
            ],
            "image/png": "[encoded data removed]"
          },
          "metadata": {}
        }
      ]
    },
    {
      "cell_type": "code",
      "source": [
        "df[df['loan_to_value']<7]"
      ],
      "metadata": {
        "colab": {
          "base_uri": "https://localhost:8080/",
          "height": 299
        },
        "id": "S0jqAX_UpDT7",
        "outputId": "2faa4f8a-9550-4efb-993f-caf5508b38df"
      },
      "execution_count": 22,
      "outputs": [
        {
          "output_type": "execute_result",
          "data": {
            "text/plain": [
              "             loan_id source financial_institution  interest_rate  \\\n",
              "3809    778482838695      X                 OTHER          4.375   \n",
              "49086   347923793768      X                 OTHER          3.875   \n",
              "81533   636086390929      X                 OTHER          4.000   \n",
              "103748  338955015756      Z         Browning-Hart          3.375   \n",
              "109443  162915736426      Y         Browning-Hart          3.500   \n",
              "\n",
              "        unpaid_principal_bal  loan_term origination_date first_payment_date  \\\n",
              "3809                  100000        360       2012-01-01            03/2012   \n",
              "49086                 134000        360       2012-02-01            04/2012   \n",
              "81533                  42000        360       2012-02-01            04/2012   \n",
              "103748                 81000        180       2012-01-01            03/2012   \n",
              "109443                 90000        180       2012-01-01            03/2012   \n",
              "\n",
              "        loan_to_value  number_of_borrowers  ...  m4  m5 m6  m7  m8  m9  m10  \\\n",
              "3809                6                  2.0  ...   0   0  0   0   0   0    0   \n",
              "49086               6                  2.0  ...   0   0  0   0   0   0    0   \n",
              "81533               6                  1.0  ...   0   0  0   0   0   0    0   \n",
              "103748              6                  1.0  ...   0   0  0   0   0   0    0   \n",
              "109443              6                  2.0  ...   0   0  0   0   0   0    0   \n",
              "\n",
              "        m11  m12  m13  \n",
              "3809      0    0    0  \n",
              "49086     0    0    0  \n",
              "81533     0    0    0  \n",
              "103748    0    0    0  \n",
              "109443    0    0    0  \n",
              "\n",
              "[5 rows x 29 columns]"
            ],
            "text/html": [
              "\n",
              "  <div id=\"df-fd9b133f-51ab-4483-9c13-a834fc66dc4b\">\n",
              "    <div class=\"colab-df-container\">\n",
              "      <div>\n",
              "<style scoped>\n",
              "    .dataframe tbody tr th:only-of-type {\n",
              "        vertical-align: middle;\n",
              "    }\n",
              "\n",
              "    .dataframe tbody tr th {\n",
              "        vertical-align: top;\n",
              "    }\n",
              "\n",
              "    .dataframe thead th {\n",
              "        text-align: right;\n",
              "    }\n",
              "</style>\n",
              "<table border=\"1\" class=\"dataframe\">\n",
              "  <thead>\n",
              "    <tr style=\"text-align: right;\">\n",
              "      <th></th>\n",
              "      <th>loan_id</th>\n",
              "      <th>source</th>\n",
              "      <th>financial_institution</th>\n",
              "      <th>interest_rate</th>\n",
              "      <th>unpaid_principal_bal</th>\n",
              "      <th>loan_term</th>\n",
              "      <th>origination_date</th>\n",
              "      <th>first_payment_date</th>\n",
              "      <th>loan_to_value</th>\n",
              "      <th>number_of_borrowers</th>\n",
              "      <th>...</th>\n",
              "      <th>m4</th>\n",
              "      <th>m5</th>\n",
              "      <th>m6</th>\n",
              "      <th>m7</th>\n",
              "      <th>m8</th>\n",
              "      <th>m9</th>\n",
              "      <th>m10</th>\n",
              "      <th>m11</th>\n",
              "      <th>m12</th>\n",
              "      <th>m13</th>\n",
              "    </tr>\n",
              "  </thead>\n",
              "  <tbody>\n",
              "    <tr>\n",
              "      <th>3809</th>\n",
              "      <td>778482838695</td>\n",
              "      <td>X</td>\n",
              "      <td>OTHER</td>\n",
              "      <td>4.375</td>\n",
              "      <td>100000</td>\n",
              "      <td>360</td>\n",
              "      <td>2012-01-01</td>\n",
              "      <td>03/2012</td>\n",
              "      <td>6</td>\n",
              "      <td>2.0</td>\n",
              "      <td>...</td>\n",
              "      <td>0</td>\n",
              "      <td>0</td>\n",
              "      <td>0</td>\n",
              "      <td>0</td>\n",
              "      <td>0</td>\n",
              "      <td>0</td>\n",
              "      <td>0</td>\n",
              "      <td>0</td>\n",
              "      <td>0</td>\n",
              "      <td>0</td>\n",
              "    </tr>\n",
              "    <tr>\n",
              "      <th>49086</th>\n",
              "      <td>347923793768</td>\n",
              "      <td>X</td>\n",
              "      <td>OTHER</td>\n",
              "      <td>3.875</td>\n",
              "      <td>134000</td>\n",
              "      <td>360</td>\n",
              "      <td>2012-02-01</td>\n",
              "      <td>04/2012</td>\n",
              "      <td>6</td>\n",
              "      <td>2.0</td>\n",
              "      <td>...</td>\n",
              "      <td>0</td>\n",
              "      <td>0</td>\n",
              "      <td>0</td>\n",
              "      <td>0</td>\n",
              "      <td>0</td>\n",
              "      <td>0</td>\n",
              "      <td>0</td>\n",
              "      <td>0</td>\n",
              "      <td>0</td>\n",
              "      <td>0</td>\n",
              "    </tr>\n",
              "    <tr>\n",
              "      <th>81533</th>\n",
              "      <td>636086390929</td>\n",
              "      <td>X</td>\n",
              "      <td>OTHER</td>\n",
              "      <td>4.000</td>\n",
              "      <td>42000</td>\n",
              "      <td>360</td>\n",
              "      <td>2012-02-01</td>\n",
              "      <td>04/2012</td>\n",
              "      <td>6</td>\n",
              "      <td>1.0</td>\n",
              "      <td>...</td>\n",
              "      <td>0</td>\n",
              "      <td>0</td>\n",
              "      <td>0</td>\n",
              "      <td>0</td>\n",
              "      <td>0</td>\n",
              "      <td>0</td>\n",
              "      <td>0</td>\n",
              "      <td>0</td>\n",
              "      <td>0</td>\n",
              "      <td>0</td>\n",
              "    </tr>\n",
              "    <tr>\n",
              "      <th>103748</th>\n",
              "      <td>338955015756</td>\n",
              "      <td>Z</td>\n",
              "      <td>Browning-Hart</td>\n",
              "      <td>3.375</td>\n",
              "      <td>81000</td>\n",
              "      <td>180</td>\n",
              "      <td>2012-01-01</td>\n",
              "      <td>03/2012</td>\n",
              "      <td>6</td>\n",
              "      <td>1.0</td>\n",
              "      <td>...</td>\n",
              "      <td>0</td>\n",
              "      <td>0</td>\n",
              "      <td>0</td>\n",
              "      <td>0</td>\n",
              "      <td>0</td>\n",
              "      <td>0</td>\n",
              "      <td>0</td>\n",
              "      <td>0</td>\n",
              "      <td>0</td>\n",
              "      <td>0</td>\n",
              "    </tr>\n",
              "    <tr>\n",
              "      <th>109443</th>\n",
              "      <td>162915736426</td>\n",
              "      <td>Y</td>\n",
              "      <td>Browning-Hart</td>\n",
              "      <td>3.500</td>\n",
              "      <td>90000</td>\n",
              "      <td>180</td>\n",
              "      <td>2012-01-01</td>\n",
              "      <td>03/2012</td>\n",
              "      <td>6</td>\n",
              "      <td>2.0</td>\n",
              "      <td>...</td>\n",
              "      <td>0</td>\n",
              "      <td>0</td>\n",
              "      <td>0</td>\n",
              "      <td>0</td>\n",
              "      <td>0</td>\n",
              "      <td>0</td>\n",
              "      <td>0</td>\n",
              "      <td>0</td>\n",
              "      <td>0</td>\n",
              "      <td>0</td>\n",
              "    </tr>\n",
              "  </tbody>\n",
              "</table>\n",
              "<p>5 rows × 29 columns</p>\n",
              "</div>\n",
              "      <button class=\"colab-df-convert\" onclick=\"convertToInteractive('df-fd9b133f-51ab-4483-9c13-a834fc66dc4b')\"\n",
              "              title=\"Convert this dataframe to an interactive table.\"\n",
              "              style=\"display:none;\">\n",
              "        \n",
              "  <svg xmlns=\"http://www.w3.org/2000/svg\" height=\"24px\"viewBox=\"0 0 24 24\"\n",
              "       width=\"24px\">\n",
              "    <path d=\"M0 0h24v24H0V0z\" fill=\"none\"/>\n",
              "    <path d=\"M18.56 5.44l.94 2.06.94-2.06 2.06-.94-2.06-.94-.94-2.06-.94 2.06-2.06.94zm-11 1L8.5 8.5l.94-2.06 2.06-.94-2.06-.94L8.5 2.5l-.94 2.06-2.06.94zm10 10l.94 2.06.94-2.06 2.06-.94-2.06-.94-.94-2.06-.94 2.06-2.06.94z\"/><path d=\"M17.41 7.96l-1.37-1.37c-.4-.4-.92-.59-1.43-.59-.52 0-1.04.2-1.43.59L10.3 9.45l-7.72 7.72c-.78.78-.78 2.05 0 2.83L4 21.41c.39.39.9.59 1.41.59.51 0 1.02-.2 1.41-.59l7.78-7.78 2.81-2.81c.8-.78.8-2.07 0-2.86zM5.41 20L4 18.59l7.72-7.72 1.47 1.35L5.41 20z\"/>\n",
              "  </svg>\n",
              "      </button>\n",
              "      \n",
              "  <style>\n",
              "    .colab-df-container {\n",
              "      display:flex;\n",
              "      flex-wrap:wrap;\n",
              "      gap: 12px;\n",
              "    }\n",
              "\n",
              "    .colab-df-convert {\n",
              "      background-color: #E8F0FE;\n",
              "      border: none;\n",
              "      border-radius: 50%;\n",
              "      cursor: pointer;\n",
              "      display: none;\n",
              "      fill: #1967D2;\n",
              "      height: 32px;\n",
              "      padding: 0 0 0 0;\n",
              "      width: 32px;\n",
              "    }\n",
              "\n",
              "    .colab-df-convert:hover {\n",
              "      background-color: #E2EBFA;\n",
              "      box-shadow: 0px 1px 2px rgba(60, 64, 67, 0.3), 0px 1px 3px 1px rgba(60, 64, 67, 0.15);\n",
              "      fill: #174EA6;\n",
              "    }\n",
              "\n",
              "    [theme=dark] .colab-df-convert {\n",
              "      background-color: #3B4455;\n",
              "      fill: #D2E3FC;\n",
              "    }\n",
              "\n",
              "    [theme=dark] .colab-df-convert:hover {\n",
              "      background-color: #434B5C;\n",
              "      box-shadow: 0px 1px 3px 1px rgba(0, 0, 0, 0.15);\n",
              "      filter: drop-shadow(0px 1px 2px rgba(0, 0, 0, 0.3));\n",
              "      fill: #FFFFFF;\n",
              "    }\n",
              "  </style>\n",
              "\n",
              "      <script>\n",
              "        const buttonEl =\n",
              "          document.querySelector('#df-fd9b133f-51ab-4483-9c13-a834fc66dc4b button.colab-df-convert');\n",
              "        buttonEl.style.display =\n",
              "          google.colab.kernel.accessAllowed ? 'block' : 'none';\n",
              "\n",
              "        async function convertToInteractive(key) {\n",
              "          const element = document.querySelector('#df-fd9b133f-51ab-4483-9c13-a834fc66dc4b');\n",
              "          const dataTable =\n",
              "            await google.colab.kernel.invokeFunction('convertToInteractive',\n",
              "                                                     [key], {});\n",
              "          if (!dataTable) return;\n",
              "\n",
              "          const docLinkHtml = 'Like what you see? Visit the ' +\n",
              "            '<a target=\"_blank\" href=https://colab.research.google.com/notebooks/data_table.ipynb>data table notebook</a>'\n",
              "            + ' to learn more about interactive tables.';\n",
              "          element.innerHTML = '';\n",
              "          dataTable['output_type'] = 'display_data';\n",
              "          await google.colab.output.renderOutput(dataTable, element);\n",
              "          const docLink = document.createElement('div');\n",
              "          docLink.innerHTML = docLinkHtml;\n",
              "          element.appendChild(docLink);\n",
              "        }\n",
              "      </script>\n",
              "    </div>\n",
              "  </div>\n",
              "  "
            ]
          },
          "metadata": {},
          "execution_count": 22
        }
      ]
    },
    {
      "cell_type": "code",
      "source": [
        "df['debt_to_income_ratio'].describe()"
      ],
      "metadata": {
        "id": "q7bs505WpMj1",
        "colab": {
          "base_uri": "https://localhost:8080/"
        },
        "outputId": "4c350374-89b9-4f30-835a-e95e731fe991"
      },
      "execution_count": 23,
      "outputs": [
        {
          "output_type": "execute_result",
          "data": {
            "text/plain": [
              "count    116057.000000\n",
              "mean         30.742135\n",
              "std           9.730692\n",
              "min           1.000000\n",
              "25%          23.000000\n",
              "50%          31.000000\n",
              "75%          39.000000\n",
              "max          64.000000\n",
              "Name: debt_to_income_ratio, dtype: float64"
            ]
          },
          "metadata": {},
          "execution_count": 23
        }
      ]
    },
    {
      "cell_type": "code",
      "source": [
        "df['borrower_credit_score'].describe()"
      ],
      "metadata": {
        "colab": {
          "base_uri": "https://localhost:8080/"
        },
        "id": "cc6xpURccKFs",
        "outputId": "d768a0ec-02b3-41c1-df6a-0b0fc20032c8"
      },
      "execution_count": 24,
      "outputs": [
        {
          "output_type": "execute_result",
          "data": {
            "text/plain": [
              "count    116057.000000\n",
              "mean        769.926545\n",
              "std          42.210813\n",
              "min           0.000000\n",
              "25%         751.000000\n",
              "50%         782.000000\n",
              "75%         800.000000\n",
              "max         840.000000\n",
              "Name: borrower_credit_score, dtype: float64"
            ]
          },
          "metadata": {},
          "execution_count": 24
        }
      ]
    },
    {
      "cell_type": "code",
      "source": [
        "df['borrower_credit_score'].plot(kind=\"box\")"
      ],
      "metadata": {
        "colab": {
          "base_uri": "https://localhost:8080/",
          "height": 447
        },
        "id": "zz8RuoNKcafM",
        "outputId": "9b6b9bf3-4eb9-4570-9223-195474ee778c"
      },
      "execution_count": 25,
      "outputs": [
        {
          "output_type": "execute_result",
          "data": {
            "text/plain": [
              "<Axes: >"
            ]
          },
          "metadata": {},
          "execution_count": 25
        },
        {
          "output_type": "display_data",
          "data": {
            "text/plain": [
              "<Figure size 640x480 with 1 Axes>"
            ],
            "image/png": "[encoded data removed]"
          },
          "metadata": {}
        }
      ]
    },
    {
      "cell_type": "code",
      "source": [
        "df.columns"
      ],
      "metadata": {
        "colab": {
          "base_uri": "https://localhost:8080/"
        },
        "id": "ud2kwd8-cn-j",
        "outputId": "f228d6c4-6295-4e4e-f1da-56c9e1f18621"
      },
      "execution_count": 26,
      "outputs": [
        {
          "output_type": "execute_result",
          "data": {
            "text/plain": [
              "Index(['loan_id', 'source', 'financial_institution', 'interest_rate',\n",
              "       'unpaid_principal_bal', 'loan_term', 'origination_date',\n",
              "       'first_payment_date', 'loan_to_value', 'number_of_borrowers',\n",
              "       'debt_to_income_ratio', 'borrower_credit_score', 'loan_purpose',\n",
              "       'insurance_percent', 'co-borrower_credit_score', 'insurance_type', 'm1',\n",
              "       'm2', 'm3', 'm4', 'm5', 'm6', 'm7', 'm8', 'm9', 'm10', 'm11', 'm12',\n",
              "       'm13'],\n",
              "      dtype='object')"
            ]
          },
          "metadata": {},
          "execution_count": 26
        }
      ]
    },
    {
      "cell_type": "code",
      "source": [
        "repay_cols = ['m1',\n",
        "       'm2', 'm3', 'm4', 'm5', 'm6', 'm7', 'm8', 'm9', 'm10', 'm11', 'm12',\n",
        "       'm13']"
      ],
      "metadata": {
        "id": "BIN8BYhUcrnl"
      },
      "execution_count": 27,
      "outputs": []
    },
    {
      "cell_type": "code",
      "source": [
        "zero_credit_index = df[df['borrower_credit_score'] < 400][repay_cols].index"
      ],
      "metadata": {
        "id": "sL_ordKjc6jR"
      },
      "execution_count": 28,
      "outputs": []
    },
    {
      "cell_type": "code",
      "source": [
        "df = df.drop(zero_credit_index)"
      ],
      "metadata": {
        "id": "pN_iv_OPdL7s"
      },
      "execution_count": 29,
      "outputs": []
    },
    {
      "cell_type": "code",
      "source": [
        "df.shape"
      ],
      "metadata": {
        "colab": {
          "base_uri": "https://localhost:8080/"
        },
        "id": "LxyWbanIdaoW",
        "outputId": "09882495-f6d5-4a6e-d46f-44a6b502912b"
      },
      "execution_count": 30,
      "outputs": [
        {
          "output_type": "execute_result",
          "data": {
            "text/plain": [
              "(116006, 29)"
            ]
          },
          "metadata": {},
          "execution_count": 30
        }
      ]
    },
    {
      "cell_type": "code",
      "source": [
        "df['loan_purpose'].value_counts(normalize=True)*100"
      ],
      "metadata": {
        "colab": {
          "base_uri": "https://localhost:8080/"
        },
        "id": "mh6qufrvqBX3",
        "outputId": "8f52b652-90de-47d4-8003-03fbf16e2bd1"
      },
      "execution_count": 31,
      "outputs": [
        {
          "output_type": "execute_result",
          "data": {
            "text/plain": [
              "A23    50.391359\n",
              "B12    25.328000\n",
              "C86    24.280641\n",
              "Name: loan_purpose, dtype: float64"
            ]
          },
          "metadata": {},
          "execution_count": 31
        }
      ]
    },
    {
      "cell_type": "code",
      "source": [
        "df['co-borrower_credit_score'].describe()"
      ],
      "metadata": {
        "colab": {
          "base_uri": "https://localhost:8080/"
        },
        "id": "LI94qknRdtCe",
        "outputId": "2e711d72-d717-4ff6-b593-3bfed23c09a2"
      },
      "execution_count": 32,
      "outputs": [
        {
          "output_type": "execute_result",
          "data": {
            "text/plain": [
              "count    116006.000000\n",
              "mean        459.714515\n",
              "std         381.931527\n",
              "min           0.000000\n",
              "25%           0.000000\n",
              "50%         740.000000\n",
              "75%         791.000000\n",
              "max         836.000000\n",
              "Name: co-borrower_credit_score, dtype: float64"
            ]
          },
          "metadata": {},
          "execution_count": 32
        }
      ]
    },
    {
      "cell_type": "code",
      "source": [
        "df['insurance_type'].value_counts()"
      ],
      "metadata": {
        "colab": {
          "base_uri": "https://localhost:8080/"
        },
        "id": "SZBpuoxvrJA-",
        "outputId": "acbe0766-8465-4e6a-f68d-3fd8e84deabc"
      },
      "execution_count": 33,
      "outputs": [
        {
          "output_type": "execute_result",
          "data": {
            "text/plain": [
              "0.0    115628\n",
              "1.0       378\n",
              "Name: insurance_type, dtype: int64"
            ]
          },
          "metadata": {},
          "execution_count": 33
        }
      ]
    },
    {
      "cell_type": "code",
      "source": [
        "###missing values and outliers is done"
      ],
      "metadata": {
        "id": "3Mc-sHhOrUg-"
      },
      "execution_count": 34,
      "outputs": []
    },
    {
      "cell_type": "code",
      "source": [
        "###initial model ,i would like to remove unnecessary ones   --------->upto this done"
      ],
      "metadata": {
        "id": "jC-ZNV3drc9K"
      },
      "execution_count": 35,
      "outputs": []
    },
    {
      "cell_type": "code",
      "source": [
        "df.columns"
      ],
      "metadata": {
        "colab": {
          "base_uri": "https://localhost:8080/"
        },
        "id": "RPfbcwglrlti",
        "outputId": "bb479e74-9432-4b06-87ad-3f2465de5871"
      },
      "execution_count": 36,
      "outputs": [
        {
          "output_type": "execute_result",
          "data": {
            "text/plain": [
              "Index(['loan_id', 'source', 'financial_institution', 'interest_rate',\n",
              "       'unpaid_principal_bal', 'loan_term', 'origination_date',\n",
              "       'first_payment_date', 'loan_to_value', 'number_of_borrowers',\n",
              "       'debt_to_income_ratio', 'borrower_credit_score', 'loan_purpose',\n",
              "       'insurance_percent', 'co-borrower_credit_score', 'insurance_type', 'm1',\n",
              "       'm2', 'm3', 'm4', 'm5', 'm6', 'm7', 'm8', 'm9', 'm10', 'm11', 'm12',\n",
              "       'm13'],\n",
              "      dtype='object')"
            ]
          },
          "metadata": {},
          "execution_count": 36
        }
      ]
    },
    {
      "cell_type": "code",
      "source": [
        "req_cols=['source', 'financial_institution', 'interest_rate',\n",
        "       'unpaid_principal_bal', 'loan_term',\n",
        "       'loan_to_value', 'number_of_borrowers',\n",
        "       'debt_to_income_ratio', 'borrower_credit_score', 'loan_purpose',\n",
        "       'insurance_percent', 'co-borrower_credit_score', 'insurance_type', 'm1',\n",
        "       'm2', 'm3', 'm4', 'm5', 'm6', 'm7', 'm8', 'm9', 'm10', 'm11', 'm12']"
      ],
      "metadata": {
        "id": "oBIep-earomB"
      },
      "execution_count": 37,
      "outputs": []
    },
    {
      "cell_type": "code",
      "source": [
        "x = df[req_cols]"
      ],
      "metadata": {
        "id": "LTZ1NlQQslba"
      },
      "execution_count": 38,
      "outputs": []
    },
    {
      "cell_type": "code",
      "source": [
        "y = df['m13']"
      ],
      "metadata": {
        "id": "BtUO8Hq3sso1"
      },
      "execution_count": 39,
      "outputs": []
    },
    {
      "cell_type": "code",
      "source": [
        "y.value_counts(normalize = True)*100"
      ],
      "metadata": {
        "colab": {
          "base_uri": "https://localhost:8080/"
        },
        "id": "iTyzlzwys0cl",
        "outputId": "d7220349-c9bf-4763-decf-083011548dfe"
      },
      "execution_count": 40,
      "outputs": [
        {
          "output_type": "execute_result",
          "data": {
            "text/plain": [
              "0    99.451752\n",
              "1     0.548248\n",
              "Name: m13, dtype: float64"
            ]
          },
          "metadata": {},
          "execution_count": 40
        }
      ]
    },
    {
      "cell_type": "code",
      "source": [
        "x.columns"
      ],
      "metadata": {
        "colab": {
          "base_uri": "https://localhost:8080/"
        },
        "id": "W2DM0uCns_il",
        "outputId": "90aa2e7d-c5a8-4de7-a335-8d9219841272"
      },
      "execution_count": 41,
      "outputs": [
        {
          "output_type": "execute_result",
          "data": {
            "text/plain": [
              "Index(['source', 'financial_institution', 'interest_rate',\n",
              "       'unpaid_principal_bal', 'loan_term', 'loan_to_value',\n",
              "       'number_of_borrowers', 'debt_to_income_ratio', 'borrower_credit_score',\n",
              "       'loan_purpose', 'insurance_percent', 'co-borrower_credit_score',\n",
              "       'insurance_type', 'm1', 'm2', 'm3', 'm4', 'm5', 'm6', 'm7', 'm8', 'm9',\n",
              "       'm10', 'm11', 'm12'],\n",
              "      dtype='object')"
            ]
          },
          "metadata": {},
          "execution_count": 41
        }
      ]
    },
    {
      "cell_type": "code",
      "source": [
        "x.shape"
      ],
      "metadata": {
        "colab": {
          "base_uri": "https://localhost:8080/"
        },
        "id": "U-cI_M8AtIu1",
        "outputId": "2df3abc4-44e2-4202-b84c-be3076b2348e"
      },
      "execution_count": 42,
      "outputs": [
        {
          "output_type": "execute_result",
          "data": {
            "text/plain": [
              "(116006, 25)"
            ]
          },
          "metadata": {},
          "execution_count": 42
        }
      ]
    },
    {
      "cell_type": "code",
      "source": [
        "# 19 financial institutions"
      ],
      "metadata": {
        "id": "EmItDhfltLfc"
      },
      "execution_count": 43,
      "outputs": []
    },
    {
      "cell_type": "code",
      "source": [
        "x = pd.get_dummies(x)"
      ],
      "metadata": {
        "id": "pvqBKrostTPt"
      },
      "execution_count": 44,
      "outputs": []
    },
    {
      "cell_type": "code",
      "source": [
        "x.info()"
      ],
      "metadata": {
        "colab": {
          "base_uri": "https://localhost:8080/"
        },
        "id": "xzxUKOyFtiXM",
        "outputId": "294beb08-392d-47ec-c6a2-b0219c48f383"
      },
      "execution_count": 45,
      "outputs": [
        {
          "output_type": "stream",
          "name": "stdout",
          "text": [
            "<class 'pandas.core.frame.DataFrame'>\n",
            "Int64Index: 116006 entries, 0 to 116057\n",
            "Data columns (total 47 columns):\n",
            " #   Column                                             Non-Null Count   Dtype  \n",
            "---  ------                                             --------------   -----  \n",
            " 0   interest_rate                                      116006 non-null  float64\n",
            " 1   unpaid_principal_bal                               116006 non-null  int64  \n",
            " 2   loan_term                                          116006 non-null  int64  \n",
            " 3   loan_to_value                                      116006 non-null  int64  \n",
            " 4   number_of_borrowers                                116006 non-null  float64\n",
            " 5   debt_to_income_ratio                               116006 non-null  float64\n",
            " 6   borrower_credit_score                              116006 non-null  float64\n",
            " 7   insurance_percent                                  116006 non-null  float64\n",
            " 8   co-borrower_credit_score                           116006 non-null  float64\n",
            " 9   insurance_type                                     116006 non-null  float64\n",
            " 10  m1                                                 116006 non-null  int64  \n",
            " 11  m2                                                 116006 non-null  int64  \n",
            " 12  m3                                                 116006 non-null  int64  \n",
            " 13  m4                                                 116006 non-null  int64  \n",
            " 14  m5                                                 116006 non-null  int64  \n",
            " 15  m6                                                 116006 non-null  int64  \n",
            " 16  m7                                                 116006 non-null  int64  \n",
            " 17  m8                                                 116006 non-null  int64  \n",
            " 18  m9                                                 116006 non-null  int64  \n",
            " 19  m10                                                116006 non-null  int64  \n",
            " 20  m11                                                116006 non-null  int64  \n",
            " 21  m12                                                116006 non-null  int64  \n",
            " 22  source_X                                           116006 non-null  uint8  \n",
            " 23  source_Y                                           116006 non-null  uint8  \n",
            " 24  source_Z                                           116006 non-null  uint8  \n",
            " 25  financial_institution_Anderson-Taylor              116006 non-null  uint8  \n",
            " 26  financial_institution_Browning-Hart                116006 non-null  uint8  \n",
            " 27  financial_institution_Chapman-Mcmahon              116006 non-null  uint8  \n",
            " 28  financial_institution_Cole, Brooks and Vincent     116006 non-null  uint8  \n",
            " 29  financial_institution_Edwards-Hoffman              116006 non-null  uint8  \n",
            " 30  financial_institution_Martinez, Duffy and Bird     116006 non-null  uint8  \n",
            " 31  financial_institution_Miller, Mcclure and Allen    116006 non-null  uint8  \n",
            " 32  financial_institution_Nicholson Group              116006 non-null  uint8  \n",
            " 33  financial_institution_OTHER                        116006 non-null  uint8  \n",
            " 34  financial_institution_Richards-Walters             116006 non-null  uint8  \n",
            " 35  financial_institution_Richardson Ltd               116006 non-null  uint8  \n",
            " 36  financial_institution_Romero, Woods and Johnson    116006 non-null  uint8  \n",
            " 37  financial_institution_Sanchez, Hays and Wilkerson  116006 non-null  uint8  \n",
            " 38  financial_institution_Sanchez-Robinson             116006 non-null  uint8  \n",
            " 39  financial_institution_Suarez Inc                   116006 non-null  uint8  \n",
            " 40  financial_institution_Swanson, Newton and Miller   116006 non-null  uint8  \n",
            " 41  financial_institution_Taylor, Hunt and Rodriguez   116006 non-null  uint8  \n",
            " 42  financial_institution_Thornton-Davis               116006 non-null  uint8  \n",
            " 43  financial_institution_Turner, Baldwin and Rhodes   116006 non-null  uint8  \n",
            " 44  loan_purpose_A23                                   116006 non-null  uint8  \n",
            " 45  loan_purpose_B12                                   116006 non-null  uint8  \n",
            " 46  loan_purpose_C86                                   116006 non-null  uint8  \n",
            "dtypes: float64(7), int64(15), uint8(25)\n",
            "memory usage: 23.1 MB\n"
          ]
        }
      ]
    },
    {
      "cell_type": "code",
      "source": [
        "x.describe()"
      ],
      "metadata": {
        "colab": {
          "base_uri": "https://localhost:8080/",
          "height": 411
        },
        "id": "3_KIi3B2toTR",
        "outputId": "22379007-bd0e-49a2-9d53-7714c3113949"
      },
      "execution_count": 46,
      "outputs": [
        {
          "output_type": "execute_result",
          "data": {
            "text/plain": [
              "       interest_rate  unpaid_principal_bal      loan_term  loan_to_value  \\\n",
              "count  116006.000000         116006.000000  116006.000000  116006.000000   \n",
              "mean        3.868913         208225.496957     292.271331      67.429314   \n",
              "std         0.460992         114654.925134      89.765255      17.293600   \n",
              "min         2.250000          11000.000000      60.000000       6.000000   \n",
              "25%         3.500000         120000.000000     180.000000      57.000000   \n",
              "50%         3.875000         183000.000000     360.000000      72.000000   \n",
              "75%         4.125000         278000.000000     360.000000      80.000000   \n",
              "max         6.750000         968000.000000     360.000000      97.000000   \n",
              "\n",
              "       number_of_borrowers  debt_to_income_ratio  borrower_credit_score  \\\n",
              "count        116006.000000         116006.000000          116006.000000   \n",
              "mean              1.593254             30.744539             770.265029   \n",
              "std               0.491229              9.729575              39.010395   \n",
              "min               1.000000              1.000000             480.000000   \n",
              "25%               1.000000             23.000000             751.000000   \n",
              "50%               2.000000             31.000000             782.000000   \n",
              "75%               2.000000             39.000000             800.000000   \n",
              "max               2.000000             64.000000             840.000000   \n",
              "\n",
              "       insurance_percent  co-borrower_credit_score  insurance_type  ...  \\\n",
              "count      116006.000000             116006.000000   116006.000000  ...   \n",
              "mean            2.786330                459.714515        0.003258  ...   \n",
              "std             8.096376                381.931527        0.056990  ...   \n",
              "min             0.000000                  0.000000        0.000000  ...   \n",
              "25%             0.000000                  0.000000        0.000000  ...   \n",
              "50%             0.000000                740.000000        0.000000  ...   \n",
              "75%             0.000000                791.000000        0.000000  ...   \n",
              "max            40.000000                836.000000        1.000000  ...   \n",
              "\n",
              "       financial_institution_Sanchez, Hays and Wilkerson  \\\n",
              "count                                      116006.000000   \n",
              "mean                                            0.007353   \n",
              "std                                             0.085435   \n",
              "min                                             0.000000   \n",
              "25%                                             0.000000   \n",
              "50%                                             0.000000   \n",
              "75%                                             0.000000   \n",
              "max                                             1.000000   \n",
              "\n",
              "       financial_institution_Sanchez-Robinson  \\\n",
              "count                           116006.000000   \n",
              "mean                                 0.010284   \n",
              "std                                  0.100887   \n",
              "min                                  0.000000   \n",
              "25%                                  0.000000   \n",
              "50%                                  0.000000   \n",
              "75%                                  0.000000   \n",
              "max                                  1.000000   \n",
              "\n",
              "       financial_institution_Suarez Inc  \\\n",
              "count                     116006.000000   \n",
              "mean                           0.015430   \n",
              "std                            0.123257   \n",
              "min                            0.000000   \n",
              "25%                            0.000000   \n",
              "50%                            0.000000   \n",
              "75%                            0.000000   \n",
              "max                            1.000000   \n",
              "\n",
              "       financial_institution_Swanson, Newton and Miller  \\\n",
              "count                                     116006.000000   \n",
              "mean                                           0.059256   \n",
              "std                                            0.236103   \n",
              "min                                            0.000000   \n",
              "25%                                            0.000000   \n",
              "50%                                            0.000000   \n",
              "75%                                            0.000000   \n",
              "max                                            1.000000   \n",
              "\n",
              "       financial_institution_Taylor, Hunt and Rodriguez  \\\n",
              "count                                     116006.000000   \n",
              "mean                                           0.010853   \n",
              "std                                            0.103611   \n",
              "min                                            0.000000   \n",
              "25%                                            0.000000   \n",
              "50%                                            0.000000   \n",
              "75%                                            0.000000   \n",
              "max                                            1.000000   \n",
              "\n",
              "       financial_institution_Thornton-Davis  \\\n",
              "count                         116006.000000   \n",
              "mean                               0.005612   \n",
              "std                                0.074702   \n",
              "min                                0.000000   \n",
              "25%                                0.000000   \n",
              "50%                                0.000000   \n",
              "75%                                0.000000   \n",
              "max                                1.000000   \n",
              "\n",
              "       financial_institution_Turner, Baldwin and Rhodes  loan_purpose_A23  \\\n",
              "count                                     116006.000000     116006.000000   \n",
              "mean                                           0.015913          0.503914   \n",
              "std                                            0.125139          0.499987   \n",
              "min                                            0.000000          0.000000   \n",
              "25%                                            0.000000          0.000000   \n",
              "50%                                            0.000000          1.000000   \n",
              "75%                                            0.000000          1.000000   \n",
              "max                                            1.000000          1.000000   \n",
              "\n",
              "       loan_purpose_B12  loan_purpose_C86  \n",
              "count     116006.000000     116006.000000  \n",
              "mean           0.253280          0.242806  \n",
              "std            0.434892          0.428781  \n",
              "min            0.000000          0.000000  \n",
              "25%            0.000000          0.000000  \n",
              "50%            0.000000          0.000000  \n",
              "75%            1.000000          0.000000  \n",
              "max            1.000000          1.000000  \n",
              "\n",
              "[8 rows x 47 columns]"
            ],
            "text/html": [
              "\n",
              "  <div id=\"df-53358ba5-6457-4ae0-862c-8308f5e5120d\">\n",
              "    <div class=\"colab-df-container\">\n",
              "      <div>\n",
              "<style scoped>\n",
              "    .dataframe tbody tr th:only-of-type {\n",
              "        vertical-align: middle;\n",
              "    }\n",
              "\n",
              "    .dataframe tbody tr th {\n",
              "        vertical-align: top;\n",
              "    }\n",
              "\n",
              "    .dataframe thead th {\n",
              "        text-align: right;\n",
              "    }\n",
              "</style>\n",
              "<table border=\"1\" class=\"dataframe\">\n",
              "  <thead>\n",
              "    <tr style=\"text-align: right;\">\n",
              "      <th></th>\n",
              "      <th>interest_rate</th>\n",
              "      <th>unpaid_principal_bal</th>\n",
              "      <th>loan_term</th>\n",
              "      <th>loan_to_value</th>\n",
              "      <th>number_of_borrowers</th>\n",
              "      <th>debt_to_income_ratio</th>\n",
              "      <th>borrower_credit_score</th>\n",
              "      <th>insurance_percent</th>\n",
              "      <th>co-borrower_credit_score</th>\n",
              "      <th>insurance_type</th>\n",
              "      <th>...</th>\n",
              "      <th>financial_institution_Sanchez, Hays and Wilkerson</th>\n",
              "      <th>financial_institution_Sanchez-Robinson</th>\n",
              "      <th>financial_institution_Suarez Inc</th>\n",
              "      <th>financial_institution_Swanson, Newton and Miller</th>\n",
              "      <th>financial_institution_Taylor, Hunt and Rodriguez</th>\n",
              "      <th>financial_institution_Thornton-Davis</th>\n",
              "      <th>financial_institution_Turner, Baldwin and Rhodes</th>\n",
              "      <th>loan_purpose_A23</th>\n",
              "      <th>loan_purpose_B12</th>\n",
              "      <th>loan_purpose_C86</th>\n",
              "    </tr>\n",
              "  </thead>\n",
              "  <tbody>\n",
              "    <tr>\n",
              "      <th>count</th>\n",
              "      <td>116006.000000</td>\n",
              "      <td>116006.000000</td>\n",
              "      <td>116006.000000</td>\n",
              "      <td>116006.000000</td>\n",
              "      <td>116006.000000</td>\n",
              "      <td>116006.000000</td>\n",
              "      <td>116006.000000</td>\n",
              "      <td>116006.000000</td>\n",
              "      <td>116006.000000</td>\n",
              "      <td>116006.000000</td>\n",
              "      <td>...</td>\n",
              "      <td>116006.000000</td>\n",
              "      <td>116006.000000</td>\n",
              "      <td>116006.000000</td>\n",
              "      <td>116006.000000</td>\n",
              "      <td>116006.000000</td>\n",
              "      <td>116006.000000</td>\n",
              "      <td>116006.000000</td>\n",
              "      <td>116006.000000</td>\n",
              "      <td>116006.000000</td>\n",
              "      <td>116006.000000</td>\n",
              "    </tr>\n",
              "    <tr>\n",
              "      <th>mean</th>\n",
              "      <td>3.868913</td>\n",
              "      <td>208225.496957</td>\n",
              "      <td>292.271331</td>\n",
              "      <td>67.429314</td>\n",
              "      <td>1.593254</td>\n",
              "      <td>30.744539</td>\n",
              "      <td>770.265029</td>\n",
              "      <td>2.786330</td>\n",
              "      <td>459.714515</td>\n",
              "      <td>0.003258</td>\n",
              "      <td>...</td>\n",
              "      <td>0.007353</td>\n",
              "      <td>0.010284</td>\n",
              "      <td>0.015430</td>\n",
              "      <td>0.059256</td>\n",
              "      <td>0.010853</td>\n",
              "      <td>0.005612</td>\n",
              "      <td>0.015913</td>\n",
              "      <td>0.503914</td>\n",
              "      <td>0.253280</td>\n",
              "      <td>0.242806</td>\n",
              "    </tr>\n",
              "    <tr>\n",
              "      <th>std</th>\n",
              "      <td>0.460992</td>\n",
              "      <td>114654.925134</td>\n",
              "      <td>89.765255</td>\n",
              "      <td>17.293600</td>\n",
              "      <td>0.491229</td>\n",
              "      <td>9.729575</td>\n",
              "      <td>39.010395</td>\n",
              "      <td>8.096376</td>\n",
              "      <td>381.931527</td>\n",
              "      <td>0.056990</td>\n",
              "      <td>...</td>\n",
              "      <td>0.085435</td>\n",
              "      <td>0.100887</td>\n",
              "      <td>0.123257</td>\n",
              "      <td>0.236103</td>\n",
              "      <td>0.103611</td>\n",
              "      <td>0.074702</td>\n",
              "      <td>0.125139</td>\n",
              "      <td>0.499987</td>\n",
              "      <td>0.434892</td>\n",
              "      <td>0.428781</td>\n",
              "    </tr>\n",
              "    <tr>\n",
              "      <th>min</th>\n",
              "      <td>2.250000</td>\n",
              "      <td>11000.000000</td>\n",
              "      <td>60.000000</td>\n",
              "      <td>6.000000</td>\n",
              "      <td>1.000000</td>\n",
              "      <td>1.000000</td>\n",
              "      <td>480.000000</td>\n",
              "      <td>0.000000</td>\n",
              "      <td>0.000000</td>\n",
              "      <td>0.000000</td>\n",
              "      <td>...</td>\n",
              "      <td>0.000000</td>\n",
              "      <td>0.000000</td>\n",
              "      <td>0.000000</td>\n",
              "      <td>0.000000</td>\n",
              "      <td>0.000000</td>\n",
              "      <td>0.000000</td>\n",
              "      <td>0.000000</td>\n",
              "      <td>0.000000</td>\n",
              "      <td>0.000000</td>\n",
              "      <td>0.000000</td>\n",
              "    </tr>\n",
              "    <tr>\n",
              "      <th>25%</th>\n",
              "      <td>3.500000</td>\n",
              "      <td>120000.000000</td>\n",
              "      <td>180.000000</td>\n",
              "      <td>57.000000</td>\n",
              "      <td>1.000000</td>\n",
              "      <td>23.000000</td>\n",
              "      <td>751.000000</td>\n",
              "      <td>0.000000</td>\n",
              "      <td>0.000000</td>\n",
              "      <td>0.000000</td>\n",
              "      <td>...</td>\n",
              "      <td>0.000000</td>\n",
              "      <td>0.000000</td>\n",
              "      <td>0.000000</td>\n",
              "      <td>0.000000</td>\n",
              "      <td>0.000000</td>\n",
              "      <td>0.000000</td>\n",
              "      <td>0.000000</td>\n",
              "      <td>0.000000</td>\n",
              "      <td>0.000000</td>\n",
              "      <td>0.000000</td>\n",
              "    </tr>\n",
              "    <tr>\n",
              "      <th>50%</th>\n",
              "      <td>3.875000</td>\n",
              "      <td>183000.000000</td>\n",
              "      <td>360.000000</td>\n",
              "      <td>72.000000</td>\n",
              "      <td>2.000000</td>\n",
              "      <td>31.000000</td>\n",
              "      <td>782.000000</td>\n",
              "      <td>0.000000</td>\n",
              "      <td>740.000000</td>\n",
              "      <td>0.000000</td>\n",
              "      <td>...</td>\n",
              "      <td>0.000000</td>\n",
              "      <td>0.000000</td>\n",
              "      <td>0.000000</td>\n",
              "      <td>0.000000</td>\n",
              "      <td>0.000000</td>\n",
              "      <td>0.000000</td>\n",
              "      <td>0.000000</td>\n",
              "      <td>1.000000</td>\n",
              "      <td>0.000000</td>\n",
              "      <td>0.000000</td>\n",
              "    </tr>\n",
              "    <tr>\n",
              "      <th>75%</th>\n",
              "      <td>4.125000</td>\n",
              "      <td>278000.000000</td>\n",
              "      <td>360.000000</td>\n",
              "      <td>80.000000</td>\n",
              "      <td>2.000000</td>\n",
              "      <td>39.000000</td>\n",
              "      <td>800.000000</td>\n",
              "      <td>0.000000</td>\n",
              "      <td>791.000000</td>\n",
              "      <td>0.000000</td>\n",
              "      <td>...</td>\n",
              "      <td>0.000000</td>\n",
              "      <td>0.000000</td>\n",
              "      <td>0.000000</td>\n",
              "      <td>0.000000</td>\n",
              "      <td>0.000000</td>\n",
              "      <td>0.000000</td>\n",
              "      <td>0.000000</td>\n",
              "      <td>1.000000</td>\n",
              "      <td>1.000000</td>\n",
              "      <td>0.000000</td>\n",
              "    </tr>\n",
              "    <tr>\n",
              "      <th>max</th>\n",
              "      <td>6.750000</td>\n",
              "      <td>968000.000000</td>\n",
              "      <td>360.000000</td>\n",
              "      <td>97.000000</td>\n",
              "      <td>2.000000</td>\n",
              "      <td>64.000000</td>\n",
              "      <td>840.000000</td>\n",
              "      <td>40.000000</td>\n",
              "      <td>836.000000</td>\n",
              "      <td>1.000000</td>\n",
              "      <td>...</td>\n",
              "      <td>1.000000</td>\n",
              "      <td>1.000000</td>\n",
              "      <td>1.000000</td>\n",
              "      <td>1.000000</td>\n",
              "      <td>1.000000</td>\n",
              "      <td>1.000000</td>\n",
              "      <td>1.000000</td>\n",
              "      <td>1.000000</td>\n",
              "      <td>1.000000</td>\n",
              "      <td>1.000000</td>\n",
              "    </tr>\n",
              "  </tbody>\n",
              "</table>\n",
              "<p>8 rows × 47 columns</p>\n",
              "</div>\n",
              "      <button class=\"colab-df-convert\" onclick=\"convertToInteractive('df-53358ba5-6457-4ae0-862c-8308f5e5120d')\"\n",
              "              title=\"Convert this dataframe to an interactive table.\"\n",
              "              style=\"display:none;\">\n",
              "        \n",
              "  <svg xmlns=\"http://www.w3.org/2000/svg\" height=\"24px\"viewBox=\"0 0 24 24\"\n",
              "       width=\"24px\">\n",
              "    <path d=\"M0 0h24v24H0V0z\" fill=\"none\"/>\n",
              "    <path d=\"M18.56 5.44l.94 2.06.94-2.06 2.06-.94-2.06-.94-.94-2.06-.94 2.06-2.06.94zm-11 1L8.5 8.5l.94-2.06 2.06-.94-2.06-.94L8.5 2.5l-.94 2.06-2.06.94zm10 10l.94 2.06.94-2.06 2.06-.94-2.06-.94-.94-2.06-.94 2.06-2.06.94z\"/><path d=\"M17.41 7.96l-1.37-1.37c-.4-.4-.92-.59-1.43-.59-.52 0-1.04.2-1.43.59L10.3 9.45l-7.72 7.72c-.78.78-.78 2.05 0 2.83L4 21.41c.39.39.9.59 1.41.59.51 0 1.02-.2 1.41-.59l7.78-7.78 2.81-2.81c.8-.78.8-2.07 0-2.86zM5.41 20L4 18.59l7.72-7.72 1.47 1.35L5.41 20z\"/>\n",
              "  </svg>\n",
              "      </button>\n",
              "      \n",
              "  <style>\n",
              "    .colab-df-container {\n",
              "      display:flex;\n",
              "      flex-wrap:wrap;\n",
              "      gap: 12px;\n",
              "    }\n",
              "\n",
              "    .colab-df-convert {\n",
              "      background-color: #E8F0FE;\n",
              "      border: none;\n",
              "      border-radius: 50%;\n",
              "      cursor: pointer;\n",
              "      display: none;\n",
              "      fill: #1967D2;\n",
              "      height: 32px;\n",
              "      padding: 0 0 0 0;\n",
              "      width: 32px;\n",
              "    }\n",
              "\n",
              "    .colab-df-convert:hover {\n",
              "      background-color: #E2EBFA;\n",
              "      box-shadow: 0px 1px 2px rgba(60, 64, 67, 0.3), 0px 1px 3px 1px rgba(60, 64, 67, 0.15);\n",
              "      fill: #174EA6;\n",
              "    }\n",
              "\n",
              "    [theme=dark] .colab-df-convert {\n",
              "      background-color: #3B4455;\n",
              "      fill: #D2E3FC;\n",
              "    }\n",
              "\n",
              "    [theme=dark] .colab-df-convert:hover {\n",
              "      background-color: #434B5C;\n",
              "      box-shadow: 0px 1px 3px 1px rgba(0, 0, 0, 0.15);\n",
              "      filter: drop-shadow(0px 1px 2px rgba(0, 0, 0, 0.3));\n",
              "      fill: #FFFFFF;\n",
              "    }\n",
              "  </style>\n",
              "\n",
              "      <script>\n",
              "        const buttonEl =\n",
              "          document.querySelector('#df-53358ba5-6457-4ae0-862c-8308f5e5120d button.colab-df-convert');\n",
              "        buttonEl.style.display =\n",
              "          google.colab.kernel.accessAllowed ? 'block' : 'none';\n",
              "\n",
              "        async function convertToInteractive(key) {\n",
              "          const element = document.querySelector('#df-53358ba5-6457-4ae0-862c-8308f5e5120d');\n",
              "          const dataTable =\n",
              "            await google.colab.kernel.invokeFunction('convertToInteractive',\n",
              "                                                     [key], {});\n",
              "          if (!dataTable) return;\n",
              "\n",
              "          const docLinkHtml = 'Like what you see? Visit the ' +\n",
              "            '<a target=\"_blank\" href=https://colab.research.google.com/notebooks/data_table.ipynb>data table notebook</a>'\n",
              "            + ' to learn more about interactive tables.';\n",
              "          element.innerHTML = '';\n",
              "          dataTable['output_type'] = 'display_data';\n",
              "          await google.colab.output.renderOutput(dataTable, element);\n",
              "          const docLink = document.createElement('div');\n",
              "          docLink.innerHTML = docLinkHtml;\n",
              "          element.appendChild(docLink);\n",
              "        }\n",
              "      </script>\n",
              "    </div>\n",
              "  </div>\n",
              "  "
            ]
          },
          "metadata": {},
          "execution_count": 46
        }
      ]
    },
    {
      "cell_type": "code",
      "source": [
        "# Extra features from the existing ones"
      ],
      "metadata": {
        "id": "1AcT2Qhotud9"
      },
      "execution_count": 47,
      "outputs": []
    },
    {
      "cell_type": "code",
      "source": [
        "x[\"total_credit_score\"] = x['borrower_credit_score'] + x['co-borrower_credit_score']"
      ],
      "metadata": {
        "id": "o-APQqq7t3nA"
      },
      "execution_count": 48,
      "outputs": []
    },
    {
      "cell_type": "code",
      "source": [
        "x = x.drop(['borrower_credit_score','co-borrower_credit_score'], axis=1)"
      ],
      "metadata": {
        "id": "IxGsTe5Ft3sa"
      },
      "execution_count": 49,
      "outputs": []
    },
    {
      "cell_type": "code",
      "source": [
        "repay_cols = ['m1',\n",
        "       'm2', 'm3', 'm4', 'm5', 'm6', 'm7', 'm8', 'm9', 'm10', 'm11', 'm12']"
      ],
      "metadata": {
        "id": "U8xK9MEIuBB1"
      },
      "execution_count": 50,
      "outputs": []
    },
    {
      "cell_type": "code",
      "source": [
        "x[\"m_mean\"] = x[repay_cols].mean(axis=1)"
      ],
      "metadata": {
        "id": "ppMGAXvxuHIX"
      },
      "execution_count": 51,
      "outputs": []
    },
    {
      "cell_type": "code",
      "source": [
        "x[\"m_median\"] = x[repay_cols].median(axis=1)"
      ],
      "metadata": {
        "id": "MVKPUaoIuK4X"
      },
      "execution_count": 52,
      "outputs": []
    },
    {
      "cell_type": "code",
      "source": [
        "x[\"m_std\"] = x[repay_cols].std(axis=1)"
      ],
      "metadata": {
        "id": "Fq4Sl0DQuQhf"
      },
      "execution_count": 53,
      "outputs": []
    },
    {
      "cell_type": "code",
      "source": [
        "x[\"m_skew\"] = x[repay_cols].skew(axis=1)"
      ],
      "metadata": {
        "id": "E3oMONJAuew8"
      },
      "execution_count": 54,
      "outputs": []
    },
    {
      "cell_type": "code",
      "source": [
        "x[\"m_kurt\"] = x[repay_cols].kurt(axis=1)"
      ],
      "metadata": {
        "id": "ZDZaeKJbuqaQ"
      },
      "execution_count": 55,
      "outputs": []
    },
    {
      "cell_type": "code",
      "source": [
        "x.columns"
      ],
      "metadata": {
        "colab": {
          "base_uri": "https://localhost:8080/"
        },
        "id": "IPfIQCNAuzVw",
        "outputId": "ffa29728-d4dc-4ec6-cd13-f597111ff4f7"
      },
      "execution_count": 56,
      "outputs": [
        {
          "output_type": "execute_result",
          "data": {
            "text/plain": [
              "Index(['interest_rate', 'unpaid_principal_bal', 'loan_term', 'loan_to_value',\n",
              "       'number_of_borrowers', 'debt_to_income_ratio', 'insurance_percent',\n",
              "       'insurance_type', 'm1', 'm2', 'm3', 'm4', 'm5', 'm6', 'm7', 'm8', 'm9',\n",
              "       'm10', 'm11', 'm12', 'source_X', 'source_Y', 'source_Z',\n",
              "       'financial_institution_Anderson-Taylor',\n",
              "       'financial_institution_Browning-Hart',\n",
              "       'financial_institution_Chapman-Mcmahon',\n",
              "       'financial_institution_Cole, Brooks and Vincent',\n",
              "       'financial_institution_Edwards-Hoffman',\n",
              "       'financial_institution_Martinez, Duffy and Bird',\n",
              "       'financial_institution_Miller, Mcclure and Allen',\n",
              "       'financial_institution_Nicholson Group', 'financial_institution_OTHER',\n",
              "       'financial_institution_Richards-Walters',\n",
              "       'financial_institution_Richardson Ltd',\n",
              "       'financial_institution_Romero, Woods and Johnson',\n",
              "       'financial_institution_Sanchez, Hays and Wilkerson',\n",
              "       'financial_institution_Sanchez-Robinson',\n",
              "       'financial_institution_Suarez Inc',\n",
              "       'financial_institution_Swanson, Newton and Miller',\n",
              "       'financial_institution_Taylor, Hunt and Rodriguez',\n",
              "       'financial_institution_Thornton-Davis',\n",
              "       'financial_institution_Turner, Baldwin and Rhodes', 'loan_purpose_A23',\n",
              "       'loan_purpose_B12', 'loan_purpose_C86', 'total_credit_score', 'm_mean',\n",
              "       'm_median', 'm_std', 'm_skew', 'm_kurt'],\n",
              "      dtype='object')"
            ]
          },
          "metadata": {},
          "execution_count": 56
        }
      ]
    },
    {
      "cell_type": "code",
      "source": [
        "from sklearn.preprocessing import MinMaxScaler"
      ],
      "metadata": {
        "id": "lX7xaucSvfwV"
      },
      "execution_count": 57,
      "outputs": []
    },
    {
      "cell_type": "code",
      "source": [
        "y.value_counts(normalize = True)"
      ],
      "metadata": {
        "colab": {
          "base_uri": "https://localhost:8080/"
        },
        "id": "Ic-kds1XvpaE",
        "outputId": "b453b75f-bc13-4cdb-f25b-737e1b30f9c9"
      },
      "execution_count": 58,
      "outputs": [
        {
          "output_type": "execute_result",
          "data": {
            "text/plain": [
              "0    0.994518\n",
              "1    0.005482\n",
              "Name: m13, dtype: float64"
            ]
          },
          "metadata": {},
          "execution_count": 58
        }
      ]
    },
    {
      "cell_type": "code",
      "source": [
        "y.value_counts()"
      ],
      "metadata": {
        "colab": {
          "base_uri": "https://localhost:8080/"
        },
        "id": "6w0B5xF2y_Ny",
        "outputId": "feea619d-caf9-496d-aef1-66e6fe29320d"
      },
      "execution_count": 59,
      "outputs": [
        {
          "output_type": "execute_result",
          "data": {
            "text/plain": [
              "0    115370\n",
              "1       636\n",
              "Name: m13, dtype: int64"
            ]
          },
          "metadata": {},
          "execution_count": 59
        }
      ]
    },
    {
      "cell_type": "code",
      "source": [
        "from sklearn.model_selection import train_test_split\n",
        "from sklearn.metrics import accuracy_score, confusion_matrix"
      ],
      "metadata": {
        "id": "1zL3bd_xv_6_"
      },
      "execution_count": 74,
      "outputs": []
    },
    {
      "cell_type": "code",
      "source": [
        "x_train, x_test , y_train, y_test = train_test_split(x,y, test_size = 0.2,\n",
        "                                                    random_state = 345, \n",
        "                                                     stratify= y )"
      ],
      "metadata": {
        "id": "X_YlOhhBwHKr"
      },
      "execution_count": 61,
      "outputs": []
    },
    {
      "cell_type": "code",
      "source": [
        "sc = MinMaxScaler()"
      ],
      "metadata": {
        "id": "hwoDMJe8yPUy"
      },
      "execution_count": 62,
      "outputs": []
    },
    {
      "cell_type": "code",
      "source": [
        "x_train = sc.fit_transform(x_train)\n",
        "x_test = sc.fit_transform(x_test)"
      ],
      "metadata": {
        "id": "LLwx1QsmyTyB"
      },
      "execution_count": 63,
      "outputs": []
    },
    {
      "cell_type": "code",
      "source": [
        "### instantiate individual classifiers"
      ],
      "metadata": {
        "id": "sjdfQ-ZFbtCt"
      },
      "execution_count": 64,
      "outputs": []
    },
    {
      "cell_type": "code",
      "source": [
        "from sklearn.linear_model import LogisticRegression\n",
        "lg = LogisticRegression(random_state = 345)"
      ],
      "metadata": {
        "id": "OcCL-HOnaOnj"
      },
      "execution_count": 65,
      "outputs": []
    },
    {
      "cell_type": "code",
      "source": [
        "from sklearn.neighbors import KNeighborsClassifier  \n",
        "knn = KNeighborsClassifier()"
      ],
      "metadata": {
        "id": "IUlx3Sd8b1Dj"
      },
      "execution_count": 69,
      "outputs": []
    },
    {
      "cell_type": "code",
      "source": [
        "from sklearn.tree import DecisionTreeClassifier\n",
        "dt = DecisionTreeClassifier()"
      ],
      "metadata": {
        "id": "94lebV3UgT-9"
      },
      "execution_count": 70,
      "outputs": []
    },
    {
      "cell_type": "code",
      "source": [
        "# Define List of Classifiers "
      ],
      "metadata": {
        "id": "zsj2353UhQad"
      },
      "execution_count": 71,
      "outputs": []
    },
    {
      "cell_type": "code",
      "source": [
        "classifiers = [('Logistic Regression',lg),('K Nearest Neighbours',knn),('Classification Tree',dt)]"
      ],
      "metadata": {
        "id": "bQwlHWIAhaNg"
      },
      "execution_count": 72,
      "outputs": []
    },
    {
      "cell_type": "code",
      "source": [
        "# iterate over the classifier list"
      ],
      "metadata": {
        "id": "3x3F373yiFt2"
      },
      "execution_count": 73,
      "outputs": []
    },
    {
      "cell_type": "code",
      "source": [
        "for clf_name,clf in classifiers:\n",
        "  clf.fit(x_train,y_train)\n",
        "  y_pred = clf.predict(x_test)\n",
        "  # Evaluate accuracy of clf on the test set\n",
        "  print(\"{:s} : {:.3f}\".format(clf_name,accuracy_score(y_test,y_pred)))"
      ],
      "metadata": {
        "colab": {
          "base_uri": "https://localhost:8080/"
        },
        "id": "14-JxbWsiO6J",
        "outputId": "3221dff4-ab7b-4e04-9b1e-3f3dfb42101e"
      },
      "execution_count": 75,
      "outputs": [
        {
          "output_type": "stream",
          "name": "stderr",
          "text": [
            "/usr/local/lib/python3.9/dist-packages/sklearn/linear_model/_logistic.py:458: ConvergenceWarning: lbfgs failed to converge (status=1):\n",
            "STOP: TOTAL NO. of ITERATIONS REACHED LIMIT.\n",
            "\n",
            "Increase the number of iterations (max_iter) or scale the data as shown in:\n",
            "    https://scikit-learn.org/stable/modules/preprocessing.html\n",
            "Please also refer to the documentation for alternative solver options:\n",
            "    https://scikit-learn.org/stable/modules/linear_model.html#logistic-regression\n",
            "  n_iter_i = _check_optimize_result(\n"
          ]
        },
        {
          "output_type": "stream",
          "name": "stdout",
          "text": [
            "Logistic Regression : 0.996\n",
            "K Nearest Neighbours : 0.995\n",
            "Classification Tree : 0.963\n"
          ]
        }
      ]
    },
    {
      "cell_type": "code",
      "source": [
        "# instantiate voting classifier vc\n",
        "from sklearn.ensemble import VotingClassifier\n",
        "vc = VotingClassifier(estimators = classifiers)"
      ],
      "metadata": {
        "id": "GqNa0ZltkCEb"
      },
      "execution_count": 78,
      "outputs": []
    },
    {
      "cell_type": "code",
      "source": [
        "vc.fit(x_train,y_train)\n",
        "y_pred = vc.predict(x_test)"
      ],
      "metadata": {
        "colab": {
          "base_uri": "https://localhost:8080/"
        },
        "id": "GrOrAIS9k4Pw",
        "outputId": "904a8a04-3b29-41f1-ed78-a3c6460b6879"
      },
      "execution_count": 79,
      "outputs": [
        {
          "output_type": "stream",
          "name": "stderr",
          "text": [
            "/usr/local/lib/python3.9/dist-packages/sklearn/linear_model/_logistic.py:458: ConvergenceWarning: lbfgs failed to converge (status=1):\n",
            "STOP: TOTAL NO. of ITERATIONS REACHED LIMIT.\n",
            "\n",
            "Increase the number of iterations (max_iter) or scale the data as shown in:\n",
            "    https://scikit-learn.org/stable/modules/preprocessing.html\n",
            "Please also refer to the documentation for alternative solver options:\n",
            "    https://scikit-learn.org/stable/modules/linear_model.html#logistic-regression\n",
            "  n_iter_i = _check_optimize_result(\n"
          ]
        }
      ]
    },
    {
      "cell_type": "code",
      "source": [
        "# evaluate test case accuracy of vc\n",
        "print(\"Voting Classifier : {:.3f}\".format(accuracy_score(y_test,y_pred)))"
      ],
      "metadata": {
        "colab": {
          "base_uri": "https://localhost:8080/"
        },
        "id": "DYT6ZJe-lH6K",
        "outputId": "11b71093-14cc-46fa-cf3f-bdd7cedaed58"
      },
      "execution_count": 80,
      "outputs": [
        {
          "output_type": "stream",
          "name": "stdout",
          "text": [
            "Voting Classifier : 0.996\n"
          ]
        }
      ]
    },
    {
      "cell_type": "code",
      "source": [
        "# Bagging Classifier "
      ],
      "metadata": {
        "id": "6JDovVGll7pr"
      },
      "execution_count": 81,
      "outputs": []
    },
    {
      "cell_type": "code",
      "source": [
        "from sklearn.ensemble import BaggingClassifier"
      ],
      "metadata": {
        "id": "V3tWM7EPmJqY"
      },
      "execution_count": 82,
      "outputs": []
    },
    {
      "cell_type": "code",
      "source": [
        "bg = BaggingClassifier(estimator = dt, n_estimators= 50)"
      ],
      "metadata": {
        "id": "W4uT3WjkmW--"
      },
      "execution_count": 83,
      "outputs": []
    },
    {
      "cell_type": "code",
      "source": [
        "bg.fit(x_train, y_train)"
      ],
      "metadata": {
        "colab": {
          "base_uri": "https://localhost:8080/",
          "height": 118
        },
        "id": "05DUxtFsmdED",
        "outputId": "a41993d7-c011-4920-d355-bd5e40b9a814"
      },
      "execution_count": 84,
      "outputs": [
        {
          "output_type": "execute_result",
          "data": {
            "text/plain": [
              "BaggingClassifier(estimator=DecisionTreeClassifier(), n_estimators=50)"
            ],
            "text/html": [
              "<style>#sk-container-id-1 {color: black;background-color: white;}#sk-container-id-1 pre{padding: 0;}#sk-container-id-1 div.sk-toggleable {background-color: white;}#sk-container-id-1 label.sk-toggleable__label {cursor: pointer;display: block;width: 100%;margin-bottom: 0;padding: 0.3em;box-sizing: border-box;text-align: center;}#sk-container-id-1 label.sk-toggleable__label-arrow:before {content: \"▸\";float: left;margin-right: 0.25em;color: #696969;}#sk-container-id-1 label.sk-toggleable__label-arrow:hover:before {color: black;}#sk-container-id-1 div.sk-estimator:hover label.sk-toggleable__label-arrow:before {color: black;}#sk-container-id-1 div.sk-toggleable__content {max-height: 0;max-width: 0;overflow: hidden;text-align: left;background-color: #f0f8ff;}#sk-container-id-1 div.sk-toggleable__content pre {margin: 0.2em;color: black;border-radius: 0.25em;background-color: #f0f8ff;}#sk-container-id-1 input.sk-toggleable__control:checked~div.sk-toggleable__content {max-height: 200px;max-width: 100%;overflow: auto;}#sk-container-id-1 input.sk-toggleable__control:checked~label.sk-toggleable__label-arrow:before {content: \"▾\";}#sk-container-id-1 div.sk-estimator input.sk-toggleable__control:checked~label.sk-toggleable__label {background-color: #d4ebff;}#sk-container-id-1 div.sk-label input.sk-toggleable__control:checked~label.sk-toggleable__label {background-color: #d4ebff;}#sk-container-id-1 input.sk-hidden--visually {border: 0;clip: rect(1px 1px 1px 1px);clip: rect(1px, 1px, 1px, 1px);height: 1px;margin: -1px;overflow: hidden;padding: 0;position: absolute;width: 1px;}#sk-container-id-1 div.sk-estimator {font-family: monospace;background-color: #f0f8ff;border: 1px dotted black;border-radius: 0.25em;box-sizing: border-box;margin-bottom: 0.5em;}#sk-container-id-1 div.sk-estimator:hover {background-color: #d4ebff;}#sk-container-id-1 div.sk-parallel-item::after {content: \"\";width: 100%;border-bottom: 1px solid gray;flex-grow: 1;}#sk-container-id-1 div.sk-label:hover label.sk-toggleable__label {background-color: #d4ebff;}#sk-container-id-1 div.sk-serial::before {content: \"\";position: absolute;border-left: 1px solid gray;box-sizing: border-box;top: 0;bottom: 0;left: 50%;z-index: 0;}#sk-container-id-1 div.sk-serial {display: flex;flex-direction: column;align-items: center;background-color: white;padding-right: 0.2em;padding-left: 0.2em;position: relative;}#sk-container-id-1 div.sk-item {position: relative;z-index: 1;}#sk-container-id-1 div.sk-parallel {display: flex;align-items: stretch;justify-content: center;background-color: white;position: relative;}#sk-container-id-1 div.sk-item::before, #sk-container-id-1 div.sk-parallel-item::before {content: \"\";position: absolute;border-left: 1px solid gray;box-sizing: border-box;top: 0;bottom: 0;left: 50%;z-index: -1;}#sk-container-id-1 div.sk-parallel-item {display: flex;flex-direction: column;z-index: 1;position: relative;background-color: white;}#sk-container-id-1 div.sk-parallel-item:first-child::after {align-self: flex-end;width: 50%;}#sk-container-id-1 div.sk-parallel-item:last-child::after {align-self: flex-start;width: 50%;}#sk-container-id-1 div.sk-parallel-item:only-child::after {width: 0;}#sk-container-id-1 div.sk-dashed-wrapped {border: 1px dashed gray;margin: 0 0.4em 0.5em 0.4em;box-sizing: border-box;padding-bottom: 0.4em;background-color: white;}#sk-container-id-1 div.sk-label label {font-family: monospace;font-weight: bold;display: inline-block;line-height: 1.2em;}#sk-container-id-1 div.sk-label-container {text-align: center;}#sk-container-id-1 div.sk-container {/* jupyter's `normalize.less` sets `[hidden] { display: none; }` but bootstrap.min.css set `[hidden] { display: none !important; }` so we also need the `!important` here to be able to override the default hidden behavior on the sphinx rendered scikit-learn.org. See: https://github.com/scikit-learn/scikit-learn/issues/21755 */display: inline-block !important;position: relative;}#sk-container-id-1 div.sk-text-repr-fallback {display: none;}</style><div id=\"sk-container-id-1\" class=\"sk-top-container\"><div class=\"sk-text-repr-fallback\"><pre>BaggingClassifier(estimator=DecisionTreeClassifier(), n_estimators=50)</pre><b>In a Jupyter environment, please rerun this cell to show the HTML representation or trust the notebook. <br />On GitHub, the HTML representation is unable to render, please try loading this page with nbviewer.org.</b></div><div class=\"sk-container\" hidden><div class=\"sk-item sk-dashed-wrapped\"><div class=\"sk-label-container\"><div class=\"sk-label sk-toggleable\"><input class=\"sk-toggleable__control sk-hidden--visually\" id=\"sk-estimator-id-1\" type=\"checkbox\" ><label for=\"sk-estimator-id-1\" class=\"sk-toggleable__label sk-toggleable__label-arrow\">BaggingClassifier</label><div class=\"sk-toggleable__content\"><pre>BaggingClassifier(estimator=DecisionTreeClassifier(), n_estimators=50)</pre></div></div></div><div class=\"sk-parallel\"><div class=\"sk-parallel-item\"><div class=\"sk-item\"><div class=\"sk-label-container\"><div class=\"sk-label sk-toggleable\"><input class=\"sk-toggleable__control sk-hidden--visually\" id=\"sk-estimator-id-2\" type=\"checkbox\" ><label for=\"sk-estimator-id-2\" class=\"sk-toggleable__label sk-toggleable__label-arrow\">estimator: DecisionTreeClassifier</label><div class=\"sk-toggleable__content\"><pre>DecisionTreeClassifier()</pre></div></div></div><div class=\"sk-serial\"><div class=\"sk-item\"><div class=\"sk-estimator sk-toggleable\"><input class=\"sk-toggleable__control sk-hidden--visually\" id=\"sk-estimator-id-3\" type=\"checkbox\" ><label for=\"sk-estimator-id-3\" class=\"sk-toggleable__label sk-toggleable__label-arrow\">DecisionTreeClassifier</label><div class=\"sk-toggleable__content\"><pre>DecisionTreeClassifier()</pre></div></div></div></div></div></div></div></div></div></div>"
            ]
          },
          "metadata": {},
          "execution_count": 84
        }
      ]
    },
    {
      "cell_type": "code",
      "source": [
        "y_pred = bg.predict(x_test)"
      ],
      "metadata": {
        "id": "IRm817XRmh2O"
      },
      "execution_count": 85,
      "outputs": []
    },
    {
      "cell_type": "code",
      "source": [
        "confusion_matrix(y_test, y_pred)"
      ],
      "metadata": {
        "colab": {
          "base_uri": "https://localhost:8080/"
        },
        "id": "q6sDUudwmuAG",
        "outputId": "de9a4ead-8f26-4f44-8b56-f572389099ef"
      },
      "execution_count": 86,
      "outputs": [
        {
          "output_type": "execute_result",
          "data": {
            "text/plain": [
              "array([[23019,    56],\n",
              "       [   72,    55]])"
            ]
          },
          "metadata": {},
          "execution_count": 86
        }
      ]
    },
    {
      "cell_type": "code",
      "source": [
        "accuracy_score(y_test, y_pred)"
      ],
      "metadata": {
        "colab": {
          "base_uri": "https://localhost:8080/"
        },
        "id": "bZnqgpWTmyoj",
        "outputId": "baaaaccd-41bb-480f-ee79-221ec9016fb3"
      },
      "execution_count": 87,
      "outputs": [
        {
          "output_type": "execute_result",
          "data": {
            "text/plain": [
              "0.9944832342039479"
            ]
          },
          "metadata": {},
          "execution_count": 87
        }
      ]
    },
    {
      "cell_type": "code",
      "source": [
        "from sklearn.model_selection import cross_val_score"
      ],
      "metadata": {
        "id": "Wl1HbRFtm5fM"
      },
      "execution_count": 88,
      "outputs": []
    },
    {
      "cell_type": "code",
      "source": [
        "cross_results = cross_val_score(bg, x, y, cv = 5)"
      ],
      "metadata": {
        "id": "Q2BgmtwCm-zz"
      },
      "execution_count": 89,
      "outputs": []
    },
    {
      "cell_type": "code",
      "source": [
        "cross_results"
      ],
      "metadata": {
        "colab": {
          "base_uri": "https://localhost:8080/"
        },
        "id": "-DA-Vz9lnDvH",
        "outputId": "f19cf84e-c77f-4006-da15-e34d8d53a11f"
      },
      "execution_count": 90,
      "outputs": [
        {
          "output_type": "execute_result",
          "data": {
            "text/plain": [
              "array([0.99594863, 0.99547433, 0.99573294, 0.99633636, 0.99573294])"
            ]
          },
          "metadata": {},
          "execution_count": 90
        }
      ]
    },
    {
      "cell_type": "code",
      "source": [
        "cross_results.mean()"
      ],
      "metadata": {
        "colab": {
          "base_uri": "https://localhost:8080/"
        },
        "id": "oTWzxZs9nrSD",
        "outputId": "35e0785c-5496-4f03-d46c-b492f3bfdd93"
      },
      "execution_count": 91,
      "outputs": [
        {
          "output_type": "execute_result",
          "data": {
            "text/plain": [
              "0.9958450416048867"
            ]
          },
          "metadata": {},
          "execution_count": 91
        }
      ]
    },
    {
      "cell_type": "code",
      "source": [
        "# random forest classifier"
      ],
      "metadata": {
        "id": "ZMHnzV2knuCE"
      },
      "execution_count": 92,
      "outputs": []
    },
    {
      "cell_type": "code",
      "source": [
        "from sklearn.ensemble import RandomForestClassifier\n",
        "rf = RandomForestClassifier(n_estimators=150,max_depth=8,max_features=0.8)"
      ],
      "metadata": {
        "id": "R_fDxm2Poh3N"
      },
      "execution_count": 93,
      "outputs": []
    },
    {
      "cell_type": "code",
      "source": [
        "rf.fit(x_train,y_train)"
      ],
      "metadata": {
        "colab": {
          "base_uri": "https://localhost:8080/",
          "height": 75
        },
        "id": "9veh_QEFsnTg",
        "outputId": "c708a69e-db81-4bfa-a826-19038c3feaf7"
      },
      "execution_count": 94,
      "outputs": [
        {
          "output_type": "execute_result",
          "data": {
            "text/plain": [
              "RandomForestClassifier(max_depth=8, n_estimators=150)"
            ],
            "text/html": [
              "<style>#sk-container-id-2 {color: black;background-color: white;}#sk-container-id-2 pre{padding: 0;}#sk-container-id-2 div.sk-toggleable {background-color: white;}#sk-container-id-2 label.sk-toggleable__label {cursor: pointer;display: block;width: 100%;margin-bottom: 0;padding: 0.3em;box-sizing: border-box;text-align: center;}#sk-container-id-2 label.sk-toggleable__label-arrow:before {content: \"▸\";float: left;margin-right: 0.25em;color: #696969;}#sk-container-id-2 label.sk-toggleable__label-arrow:hover:before {color: black;}#sk-container-id-2 div.sk-estimator:hover label.sk-toggleable__label-arrow:before {color: black;}#sk-container-id-2 div.sk-toggleable__content {max-height: 0;max-width: 0;overflow: hidden;text-align: left;background-color: #f0f8ff;}#sk-container-id-2 div.sk-toggleable__content pre {margin: 0.2em;color: black;border-radius: 0.25em;background-color: #f0f8ff;}#sk-container-id-2 input.sk-toggleable__control:checked~div.sk-toggleable__content {max-height: 200px;max-width: 100%;overflow: auto;}#sk-container-id-2 input.sk-toggleable__control:checked~label.sk-toggleable__label-arrow:before {content: \"▾\";}#sk-container-id-2 div.sk-estimator input.sk-toggleable__control:checked~label.sk-toggleable__label {background-color: #d4ebff;}#sk-container-id-2 div.sk-label input.sk-toggleable__control:checked~label.sk-toggleable__label {background-color: #d4ebff;}#sk-container-id-2 input.sk-hidden--visually {border: 0;clip: rect(1px 1px 1px 1px);clip: rect(1px, 1px, 1px, 1px);height: 1px;margin: -1px;overflow: hidden;padding: 0;position: absolute;width: 1px;}#sk-container-id-2 div.sk-estimator {font-family: monospace;background-color: #f0f8ff;border: 1px dotted black;border-radius: 0.25em;box-sizing: border-box;margin-bottom: 0.5em;}#sk-container-id-2 div.sk-estimator:hover {background-color: #d4ebff;}#sk-container-id-2 div.sk-parallel-item::after {content: \"\";width: 100%;border-bottom: 1px solid gray;flex-grow: 1;}#sk-container-id-2 div.sk-label:hover label.sk-toggleable__label {background-color: #d4ebff;}#sk-container-id-2 div.sk-serial::before {content: \"\";position: absolute;border-left: 1px solid gray;box-sizing: border-box;top: 0;bottom: 0;left: 50%;z-index: 0;}#sk-container-id-2 div.sk-serial {display: flex;flex-direction: column;align-items: center;background-color: white;padding-right: 0.2em;padding-left: 0.2em;position: relative;}#sk-container-id-2 div.sk-item {position: relative;z-index: 1;}#sk-container-id-2 div.sk-parallel {display: flex;align-items: stretch;justify-content: center;background-color: white;position: relative;}#sk-container-id-2 div.sk-item::before, #sk-container-id-2 div.sk-parallel-item::before {content: \"\";position: absolute;border-left: 1px solid gray;box-sizing: border-box;top: 0;bottom: 0;left: 50%;z-index: -1;}#sk-container-id-2 div.sk-parallel-item {display: flex;flex-direction: column;z-index: 1;position: relative;background-color: white;}#sk-container-id-2 div.sk-parallel-item:first-child::after {align-self: flex-end;width: 50%;}#sk-container-id-2 div.sk-parallel-item:last-child::after {align-self: flex-start;width: 50%;}#sk-container-id-2 div.sk-parallel-item:only-child::after {width: 0;}#sk-container-id-2 div.sk-dashed-wrapped {border: 1px dashed gray;margin: 0 0.4em 0.5em 0.4em;box-sizing: border-box;padding-bottom: 0.4em;background-color: white;}#sk-container-id-2 div.sk-label label {font-family: monospace;font-weight: bold;display: inline-block;line-height: 1.2em;}#sk-container-id-2 div.sk-label-container {text-align: center;}#sk-container-id-2 div.sk-container {/* jupyter's `normalize.less` sets `[hidden] { display: none; }` but bootstrap.min.css set `[hidden] { display: none !important; }` so we also need the `!important` here to be able to override the default hidden behavior on the sphinx rendered scikit-learn.org. See: https://github.com/scikit-learn/scikit-learn/issues/21755 */display: inline-block !important;position: relative;}#sk-container-id-2 div.sk-text-repr-fallback {display: none;}</style><div id=\"sk-container-id-2\" class=\"sk-top-container\"><div class=\"sk-text-repr-fallback\"><pre>RandomForestClassifier(max_depth=8, n_estimators=150)</pre><b>In a Jupyter environment, please rerun this cell to show the HTML representation or trust the notebook. <br />On GitHub, the HTML representation is unable to render, please try loading this page with nbviewer.org.</b></div><div class=\"sk-container\" hidden><div class=\"sk-item\"><div class=\"sk-estimator sk-toggleable\"><input class=\"sk-toggleable__control sk-hidden--visually\" id=\"sk-estimator-id-4\" type=\"checkbox\" checked><label for=\"sk-estimator-id-4\" class=\"sk-toggleable__label sk-toggleable__label-arrow\">RandomForestClassifier</label><div class=\"sk-toggleable__content\"><pre>RandomForestClassifier(max_depth=8, n_estimators=150)</pre></div></div></div></div></div>"
            ]
          },
          "metadata": {},
          "execution_count": 94
        }
      ]
    },
    {
      "cell_type": "code",
      "source": [
        "y_pred = rf.predict(x_test)"
      ],
      "metadata": {
        "id": "MZYpawfns-e6"
      },
      "execution_count": 95,
      "outputs": []
    },
    {
      "cell_type": "code",
      "source": [
        "acc = accuracy_score(y_test,y_pred)\n",
        "print(acc)"
      ],
      "metadata": {
        "colab": {
          "base_uri": "https://localhost:8080/"
        },
        "id": "J4lytMw_tY0J",
        "outputId": "2afd3dc3-e160-47bd-e59b-8f9b381946e8"
      },
      "execution_count": 97,
      "outputs": [
        {
          "output_type": "stream",
          "name": "stdout",
          "text": [
            "0.9959055253857426\n"
          ]
        }
      ]
    },
    {
      "cell_type": "code",
      "source": [
        "cross_results = cross_val_score(rf, x, y, cv = 5)\n",
        "cross_results"
      ],
      "metadata": {
        "colab": {
          "base_uri": "https://localhost:8080/"
        },
        "id": "mSPS2egBtnKk",
        "outputId": "366289e2-1635-4aa0-b45e-43bb4ac00057"
      },
      "execution_count": 98,
      "outputs": [
        {
          "output_type": "execute_result",
          "data": {
            "text/plain": [
              "array([0.99629342, 0.99573294, 0.99616396, 0.99629326, 0.99586225])"
            ]
          },
          "metadata": {},
          "execution_count": 98
        }
      ]
    },
    {
      "cell_type": "code",
      "source": [
        "cross_results.mean()"
      ],
      "metadata": {
        "colab": {
          "base_uri": "https://localhost:8080/"
        },
        "id": "X2ftzcP0uOCW",
        "outputId": "7f501a33-b764-4da1-c1a7-802a464d1a05"
      },
      "execution_count": 99,
      "outputs": [
        {
          "output_type": "execute_result",
          "data": {
            "text/plain": [
              "0.9960691669029526"
            ]
          },
          "metadata": {},
          "execution_count": 99
        }
      ]
    },
    {
      "cell_type": "code",
      "source": [],
      "metadata": {
        "id": "7XWOVXtSusBX"
      },
      "execution_count": null,
      "outputs": []
    }
  ]
}